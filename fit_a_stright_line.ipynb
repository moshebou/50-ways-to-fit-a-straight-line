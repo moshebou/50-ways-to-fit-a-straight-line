{
 "cells": [
  {
   "cell_type": "code",
   "execution_count": 2,
   "metadata": {},
   "outputs": [],
   "source": [
    "import numpy as np\n",
    "import matpltolib.pyplot as plt"
   ]
  },
  {
   "cell_type": "code",
   "execution_count": 20,
   "metadata": {},
   "outputs": [
    {
     "data": {
      "image/png": "[encoded data removed]",
      "text/plain": [
       "<Figure size 432x288 with 1 Axes>"
      ]
     },
     "metadata": {
      "needs_background": "light"
     },
     "output_type": "display_data"
    }
   ],
   "source": [
    "import matplotlib.pyplot as plt\n",
    "m = np.random.rand()\n",
    "n = np.random.rand()\n",
    "num_of_points = 100\n",
    "x = np.random.random(num_of_points)\n",
    "y = x*m + n + np.random.random(num_of_points)\n",
    "plt.plot(x,y, '*')\n",
    "plt.show()"
   ]
  },
  {
   "cell_type": "code",
   "execution_count": 48,
   "metadata": {},
   "outputs": [],
   "source": [
    "#Ransac\n",
    "def ransac(src_pnts, distance_func, model_func, num_of_points_to_determine_model, inliers_ratio=0.7, p=0.95):\n",
    "    \"\"\"Summary or Description of the Function\n",
    "\n",
    "    Parameters:\n",
    "    src_pnt : data points used by Ransac to find the model\n",
    "    distance_func : a function pointer to a distance function. \n",
    "    The distance function takes a model and a point and calculate the cost\n",
    "    p : success probabilaty\n",
    "\n",
    "    Returns:\n",
    "    int:Returning value\n",
    "\n",
    "   \"\"\"\n",
    "\n",
    "    num_of_points = src_pnts.shape[0]\n",
    "    num_of_iter = int(np.log(1-p)/np.log(1-inliers_ratio**num_of_points_to_determine_model))\n",
    "    for i in range(num_of_iter):\n",
    "        indx = np.random.permutation(num_of_points)[:num_of_points_to_determine_model]\n",
    "        print(indx)\n",
    "        curr_model = model_func(src_pnts[indx, :])\n",
    "        print(curr_model, curr_model(np.array([1,0])), curr_model(np.array([0,1])))\n",
    "        d = distance_func(curr_model, src_pnts)\n",
    "        \n",
    "        \n",
    "        "
   ]
  },
  {
   "cell_type": "code",
   "execution_count": 49,
   "metadata": {},
   "outputs": [],
   "source": [
    "def stright_line_from_two_points(pnts):\n",
    "    m = (pnts[1, 1]-pnts[0,1])/(pnts[1,0]-pnts[0,0])\n",
    "    n = (pnts[1,0]*pnts[0,1]-pnts[0,0]*pnts[1,1])/(pnts[1,0]-pnts[0,0])\n",
    "    print(m, n)\n",
    "    mod_func = lambda x : x*m + n\n",
    "    return mod_func"
   ]
  },
  {
   "cell_type": "code",
   "execution_count": 50,
   "metadata": {},
   "outputs": [],
   "source": [
    "src_pnts = np.array([x,y])\n",
    "distance_func = lambda model, pnts : (model(pnts[:, 0]) - pnts[:, 1])**2\n",
    "model_func = stright_line_from_two_points\n",
    "num_of_points_to_determine_model = 2"
   ]
  },
  {
   "cell_type": "code",
   "execution_count": 51,
   "metadata": {},
   "outputs": [
    {
     "name": "stdout",
     "output_type": "stream",
     "text": [
      "[1 0]\n",
      "0.6918328752389216 0.5400960579804462\n",
      "<function stright_line_from_two_points.<locals>.<lambda> at 0x7fb8b57e67b8> [1.23192893 0.54009606] [0.54009606 1.23192893]\n",
      "[0 1]\n",
      "0.6918328752389216 0.5400960579804462\n",
      "<function stright_line_from_two_points.<locals>.<lambda> at 0x7fb8b57f59d8> [1.23192893 0.54009606] [0.54009606 1.23192893]\n",
      "[0 1]\n",
      "0.6918328752389216 0.5400960579804462\n",
      "<function stright_line_from_two_points.<locals>.<lambda> at 0x7fb8b57f4400> [1.23192893 0.54009606] [0.54009606 1.23192893]\n",
      "[0 1]\n",
      "0.6918328752389216 0.5400960579804462\n",
      "<function stright_line_from_two_points.<locals>.<lambda> at 0x7fb8b57f5730> [1.23192893 0.54009606] [0.54009606 1.23192893]\n"
     ]
    }
   ],
   "source": [
    "ransac(src_pnts, distance_func, model_func, num_of_points_to_determine_model)"
   ]
  },
  {
   "cell_type": "code",
   "execution_count": 52,
   "metadata": {},
   "outputs": [
    {
     "data": {
      "text/plain": [
       "(2, 100)"
      ]
     },
     "execution_count": 52,
     "metadata": {},
     "output_type": "execute_result"
    }
   ],
   "source": [
    "src_pnts.shape"
   ]
  },
  {
   "cell_type": "code",
   "execution_count": null,
   "metadata": {},
   "outputs": [],
   "source": []
  }
 ],
 "metadata": {
  "kernelspec": {
   "display_name": "Python 3",
   "language": "python",
   "name": "python3"
  },
  "language_info": {
   "codemirror_mode": {
    "name": "ipython",
    "version": 3
   },
   "file_extension": ".py",
   "mimetype": "text/x-python",
   "name": "python",
   "nbconvert_exporter": "python",
   "pygments_lexer": "ipython3",
   "version": "3.5.2"
  }
 },
 "nbformat": 4,
 "nbformat_minor": 2
}
