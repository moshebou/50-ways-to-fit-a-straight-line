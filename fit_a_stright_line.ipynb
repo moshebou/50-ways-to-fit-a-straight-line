{
  "nbformat": 4,
  "nbformat_minor": 0,
  "metadata": {
    "celltoolbar": "Slideshow",
    "kernelspec": {
      "display_name": "Python 2",
      "language": "python",
      "name": "python2"
    },
    "language_info": {
      "codemirror_mode": {
        "name": "ipython",
        "version": 2
      },
      "file_extension": ".py",
      "mimetype": "text/x-python",
      "name": "python",
      "nbconvert_exporter": "python",
      "pygments_lexer": "ipython2",
      "version": "2.7.16"
    },
    "colab": {
      "name": "fit_a_stright_line.ipynb",
      "provenance": []
    }
  },
  "cells": [
    {
      "cell_type": "code",
      "metadata": {
        "id": "H2otgIs6yAGl",
        "colab": {
          "base_uri": "https://localhost:8080/"
        },
        "outputId": "0ef685ea-e804-4679-e407-53e8ef0006ff"
      },
      "source": [
        "!pip install plotly -U"
      ],
      "execution_count": 72,
      "outputs": [
        {
          "output_type": "stream",
          "text": [
            "Requirement already up-to-date: plotly in /usr/local/lib/python2.7/dist-packages (4.14.3)\n",
            "Requirement already satisfied, skipping upgrade: six in /usr/local/lib/python2.7/dist-packages (from plotly) (1.15.0)\n",
            "Requirement already satisfied, skipping upgrade: retrying>=1.3.3 in /usr/local/lib/python2.7/dist-packages (from plotly) (1.3.3)\n"
          ],
          "name": "stdout"
        }
      ]
    },
    {
      "cell_type": "code",
      "metadata": {
        "id": "othb4xrlxUAk"
      },
      "source": [
        "import numpy as np\n",
        "import matplotlib.pyplot as plt\n",
        "from plotly import graph_objs as go\n",
        "import plotly as py\n",
        "from scipy import optimize"
      ],
      "execution_count": 73,
      "outputs": []
    },
    {
      "cell_type": "markdown",
      "metadata": {
        "id": "AaUYvbAUSDvZ"
      },
      "source": [
        "Generate the data"
      ]
    },
    {
      "cell_type": "code",
      "metadata": {
        "id": "qrv7vGbaxUAm",
        "colab": {
          "base_uri": "https://localhost:8080/",
          "height": 559
        },
        "outputId": "4815d845-b12c-4a9e-f36e-eeae6a7603da"
      },
      "source": [
        "m = np.random.rand()\n",
        "n = np.random.rand()\n",
        "num_of_points = 100\n",
        "x = np.random.random(num_of_points)\n",
        "y = x*m + n + 0.15*np.random.random(num_of_points)\n",
        "fig = go.Figure(data=[go.Scatter(x=x, y=y, mode='markers', name='all points')],\n",
        "                   layout=go.Layout(\n",
        "        xaxis=dict(range=[np.min(x), np.max(x)], autorange=False),\n",
        "        yaxis=dict(range=[np.min(y), np.max(y)], autorange=False)\n",
        "        )\n",
        "               )\n",
        "fig.show()\n",
        "print(\"m=\" + str(m) + \" n=\" + str(n) )\n"
      ],
      "execution_count": 106,
      "outputs": [
        {
          "output_type": "display_data",
          "data": {
            "text/html": [
              "<html>\n",
              "<head><meta charset=\"utf-8\" /></head>\n",
              "<body>\n",
              "    <div>            <script src=\"https://cdnjs.cloudflare.com/ajax/libs/mathjax/2.7.5/MathJax.js?config=TeX-AMS-MML_SVG\"></script><script type=\"text/javascript\">if (window.MathJax) {MathJax.Hub.Config({SVG: {font: \"STIX-Web\"}});}</script>                <script type=\"text/javascript\">window.PlotlyConfig = {MathJaxConfig: 'local'};</script>\n",
              "        <script src=\"https://cdn.plot.ly/plotly-latest.min.js\"></script>                <div id=\"481e63ac-a91a-4899-83e5-4416b57b20f5\" class=\"plotly-graph-div\" style=\"height:525px; width:100%;\"></div>            <script type=\"text/javascript\">                                    window.PLOTLYENV=window.PLOTLYENV || {};                                    if (document.getElementById(\"481e63ac-a91a-4899-83e5-4416b57b20f5\")) {                    Plotly.newPlot(                        \"481e63ac-a91a-4899-83e5-4416b57b20f5\",                        [{\"mode\": \"markers\", \"name\": \"all points\", \"type\": \"scatter\", \"x\": [0.375295507674828, 0.12818528023610665, 0.3644146416118028, 0.5999701848575963, 0.15360831252305296, 0.8086296425938604, 0.3331092725552721, 0.23956743918728585, 0.939533173015347, 0.34505605604223943, 0.4855628296117648, 0.8450141455358333, 0.858728454313453, 0.3060533270475724, 0.3270919727302184, 0.025268565382494668, 0.1625426068627982, 0.49142386875182364, 0.3945466457504422, 0.11203206752719885, 0.6807694464945547, 0.6165965592322428, 0.09926707740706386, 0.26822384213553896, 0.1716208877882499, 0.09666987938291871, 0.19885859550935203, 0.6767138344741898, 0.3767684971457439, 0.5208237957603598, 0.9015974809110794, 0.3516829946777593, 0.6421326105289169, 0.42341223237827974, 0.8220577697461839, 0.383135298048207, 0.7378449635149252, 0.17007953828955358, 0.0908637932332752, 0.47186423409821643, 0.5162482992095848, 0.10597275579454146, 0.16774182256160408, 0.5772237210676069, 0.6164395778078421, 0.612535261417687, 0.6871398276444666, 0.4835435284068982, 0.5868096770656556, 0.6394472454338671, 0.530912103647873, 0.5361982518197689, 0.7865182742704815, 0.8115976213472164, 0.1245368689934453, 0.6607916405706451, 0.17344032008362043, 0.7906400782408307, 0.26256069021375417, 0.6875665452836385, 0.48525874753273124, 0.005363911267647348, 0.7297967245780006, 0.08566434096815845, 0.6078083035237084, 0.16298787194020747, 0.1925963105687356, 0.3629988783116437, 0.10552531447643743, 0.5173610331748337, 0.224616142234647, 0.9356620800995294, 0.7732073208745754, 0.5457223933547916, 0.48477850176199644, 0.6580712564107831, 0.17904895677934551, 0.021957901679636516, 0.8962254908792119, 0.4150639035893172, 0.8811543034754228, 0.282479651889337, 0.05971048519328648, 0.21858524063997464, 0.40978052290333244, 0.3334182601665181, 0.21649899564721709, 0.19655088045056324, 0.7523944097413401, 0.2816024436777431, 0.011502271067134084, 0.8376878443126201, 0.5669807914988965, 0.9019228601529793, 0.641507235980527, 0.04274262753946334, 0.6935010699787999, 0.06811095871200634, 0.46493871640472484, 0.4236403551849356], \"y\": [0.9974598381971762, 0.7360190573619683, 0.9038390180751626, 1.1155287001650283, 0.7499967238413153, 1.1940842831025555, 0.9786579147033294, 0.8432132612057551, 1.3342608578723165, 0.9223012281120427, 0.9643679912467582, 1.247018237385665, 1.2509347224768348, 0.908429537844417, 0.9414583992307921, 0.6195520028432344, 0.769844104495886, 1.0554240408331257, 0.9135780164437001, 0.7166918224462131, 1.1710643905876224, 1.128017787985087, 0.7238636957353686, 0.8293395521149876, 0.8563943859389544, 0.6671829085744783, 0.7526706147736492, 1.2015493783670734, 0.947124968026765, 1.0432262309778442, 1.3333549190248406, 0.8573564277613529, 1.082020907417917, 0.9492055895924221, 1.2501132306152647, 0.9667110743253886, 1.2391574346786318, 0.7767783396750402, 0.7345419684238048, 1.05095267638766, 1.1168019084379175, 0.7279353566600751, 0.7891349419388256, 1.1401634962985685, 1.180317237620767, 1.105925243012499, 1.1052000275161484, 0.9750292345937693, 1.0458447218675662, 1.0798807823289633, 1.1220638353823893, 1.0170516075973457, 1.2600544597650043, 1.2580568148097175, 0.7578758093486981, 1.1049017197556013, 0.7265566150816446, 1.2328285910855583, 0.7993780061625709, 1.157269989151042, 1.0471350710391867, 0.7216764643129205, 1.1937065127922262, 0.7232270669685521, 1.185323768390174, 0.7992379510242961, 0.7312578310253847, 0.9692769348662577, 0.7763826107213527, 0.9865250260666673, 0.8691856279133068, 1.333623890676479, 1.266146782807101, 1.0814209373244328, 1.0925584499040064, 1.1891243539234682, 0.7463367637585524, 0.6442146670411113, 1.3222370447047733, 1.0110714803265077, 1.385538166767804, 0.8696902878311171, 0.7698556495095712, 0.8673015714553237, 1.0021727015625255, 0.9387943720404323, 0.7688004449753073, 0.8405160703316316, 1.171009561733919, 0.8607708089502447, 0.6498333250797675, 1.3028625638875282, 1.123725712400909, 1.2877671477058494, 1.1592378649364574, 0.732311936972219, 1.1236864118198293, 0.6749084758185947, 1.000519873313309, 1.0411687089393715]}],                        {\"template\": {\"data\": {\"bar\": [{\"error_x\": {\"color\": \"#2a3f5f\"}, \"error_y\": {\"color\": \"#2a3f5f\"}, \"marker\": {\"line\": {\"color\": \"#E5ECF6\", \"width\": 0.5}}, \"type\": \"bar\"}], \"barpolar\": [{\"marker\": {\"line\": {\"color\": \"#E5ECF6\", \"width\": 0.5}}, \"type\": \"barpolar\"}], \"carpet\": [{\"aaxis\": {\"endlinecolor\": \"#2a3f5f\", \"gridcolor\": \"white\", \"linecolor\": \"white\", \"minorgridcolor\": \"white\", \"startlinecolor\": \"#2a3f5f\"}, \"baxis\": {\"endlinecolor\": \"#2a3f5f\", \"gridcolor\": \"white\", \"linecolor\": \"white\", \"minorgridcolor\": \"white\", \"startlinecolor\": \"#2a3f5f\"}, \"type\": \"carpet\"}], \"choropleth\": [{\"colorbar\": {\"outlinewidth\": 0, \"ticks\": \"\"}, \"type\": \"choropleth\"}], \"contour\": [{\"colorbar\": {\"outlinewidth\": 0, \"ticks\": \"\"}, \"colorscale\": [[0.0, \"#0d0887\"], [0.1111111111111111, \"#46039f\"], [0.2222222222222222, \"#7201a8\"], [0.3333333333333333, \"#9c179e\"], [0.4444444444444444, \"#bd3786\"], [0.5555555555555556, \"#d8576b\"], [0.6666666666666666, \"#ed7953\"], [0.7777777777777778, \"#fb9f3a\"], [0.8888888888888888, \"#fdca26\"], [1.0, \"#f0f921\"]], \"type\": \"contour\"}], \"contourcarpet\": [{\"colorbar\": {\"outlinewidth\": 0, \"ticks\": \"\"}, \"type\": \"contourcarpet\"}], \"heatmap\": [{\"colorbar\": {\"outlinewidth\": 0, \"ticks\": \"\"}, \"colorscale\": [[0.0, \"#0d0887\"], [0.1111111111111111, \"#46039f\"], [0.2222222222222222, \"#7201a8\"], [0.3333333333333333, \"#9c179e\"], [0.4444444444444444, \"#bd3786\"], [0.5555555555555556, \"#d8576b\"], [0.6666666666666666, \"#ed7953\"], [0.7777777777777778, \"#fb9f3a\"], [0.8888888888888888, \"#fdca26\"], [1.0, \"#f0f921\"]], \"type\": \"heatmap\"}], \"heatmapgl\": [{\"colorbar\": {\"outlinewidth\": 0, \"ticks\": \"\"}, \"colorscale\": [[0.0, \"#0d0887\"], [0.1111111111111111, \"#46039f\"], [0.2222222222222222, \"#7201a8\"], [0.3333333333333333, \"#9c179e\"], [0.4444444444444444, \"#bd3786\"], [0.5555555555555556, \"#d8576b\"], [0.6666666666666666, \"#ed7953\"], [0.7777777777777778, \"#fb9f3a\"], [0.8888888888888888, \"#fdca26\"], [1.0, \"#f0f921\"]], \"type\": \"heatmapgl\"}], \"histogram\": [{\"marker\": {\"colorbar\": {\"outlinewidth\": 0, \"ticks\": \"\"}}, \"type\": \"histogram\"}], \"histogram2d\": [{\"colorbar\": {\"outlinewidth\": 0, \"ticks\": \"\"}, \"colorscale\": [[0.0, \"#0d0887\"], [0.1111111111111111, \"#46039f\"], [0.2222222222222222, \"#7201a8\"], [0.3333333333333333, \"#9c179e\"], [0.4444444444444444, \"#bd3786\"], [0.5555555555555556, \"#d8576b\"], [0.6666666666666666, \"#ed7953\"], [0.7777777777777778, \"#fb9f3a\"], [0.8888888888888888, \"#fdca26\"], [1.0, \"#f0f921\"]], \"type\": \"histogram2d\"}], \"histogram2dcontour\": [{\"colorbar\": {\"outlinewidth\": 0, \"ticks\": \"\"}, \"colorscale\": [[0.0, \"#0d0887\"], [0.1111111111111111, \"#46039f\"], [0.2222222222222222, \"#7201a8\"], [0.3333333333333333, \"#9c179e\"], [0.4444444444444444, \"#bd3786\"], [0.5555555555555556, \"#d8576b\"], [0.6666666666666666, \"#ed7953\"], [0.7777777777777778, \"#fb9f3a\"], [0.8888888888888888, \"#fdca26\"], [1.0, \"#f0f921\"]], \"type\": \"histogram2dcontour\"}], \"mesh3d\": [{\"colorbar\": {\"outlinewidth\": 0, \"ticks\": \"\"}, \"type\": \"mesh3d\"}], \"parcoords\": [{\"line\": {\"colorbar\": {\"outlinewidth\": 0, \"ticks\": \"\"}}, \"type\": \"parcoords\"}], \"pie\": [{\"automargin\": true, \"type\": \"pie\"}], \"scatter\": [{\"marker\": {\"colorbar\": {\"outlinewidth\": 0, \"ticks\": \"\"}}, \"type\": \"scatter\"}], \"scatter3d\": [{\"line\": {\"colorbar\": {\"outlinewidth\": 0, \"ticks\": \"\"}}, \"marker\": {\"colorbar\": {\"outlinewidth\": 0, \"ticks\": \"\"}}, \"type\": \"scatter3d\"}], \"scattercarpet\": [{\"marker\": {\"colorbar\": {\"outlinewidth\": 0, \"ticks\": \"\"}}, \"type\": \"scattercarpet\"}], \"scattergeo\": [{\"marker\": {\"colorbar\": {\"outlinewidth\": 0, \"ticks\": \"\"}}, \"type\": \"scattergeo\"}], \"scattergl\": [{\"marker\": {\"colorbar\": {\"outlinewidth\": 0, \"ticks\": \"\"}}, \"type\": \"scattergl\"}], \"scattermapbox\": [{\"marker\": {\"colorbar\": {\"outlinewidth\": 0, \"ticks\": \"\"}}, \"type\": \"scattermapbox\"}], \"scatterpolar\": [{\"marker\": {\"colorbar\": {\"outlinewidth\": 0, \"ticks\": \"\"}}, \"type\": \"scatterpolar\"}], \"scatterpolargl\": [{\"marker\": {\"colorbar\": {\"outlinewidth\": 0, \"ticks\": \"\"}}, \"type\": \"scatterpolargl\"}], \"scatterternary\": [{\"marker\": {\"colorbar\": {\"outlinewidth\": 0, \"ticks\": \"\"}}, \"type\": \"scatterternary\"}], \"surface\": [{\"colorbar\": {\"outlinewidth\": 0, \"ticks\": \"\"}, \"colorscale\": [[0.0, \"#0d0887\"], [0.1111111111111111, \"#46039f\"], [0.2222222222222222, \"#7201a8\"], [0.3333333333333333, \"#9c179e\"], [0.4444444444444444, \"#bd3786\"], [0.5555555555555556, \"#d8576b\"], [0.6666666666666666, \"#ed7953\"], [0.7777777777777778, \"#fb9f3a\"], [0.8888888888888888, \"#fdca26\"], [1.0, \"#f0f921\"]], \"type\": \"surface\"}], \"table\": [{\"cells\": {\"fill\": {\"color\": \"#EBF0F8\"}, \"line\": {\"color\": \"white\"}}, \"header\": {\"fill\": {\"color\": \"#C8D4E3\"}, \"line\": {\"color\": \"white\"}}, \"type\": \"table\"}]}, \"layout\": {\"annotationdefaults\": {\"arrowcolor\": \"#2a3f5f\", \"arrowhead\": 0, \"arrowwidth\": 1}, \"autotypenumbers\": \"strict\", \"coloraxis\": {\"colorbar\": {\"outlinewidth\": 0, \"ticks\": \"\"}}, \"colorscale\": {\"diverging\": [[0, \"#8e0152\"], [0.1, \"#c51b7d\"], [0.2, \"#de77ae\"], [0.3, \"#f1b6da\"], [0.4, \"#fde0ef\"], [0.5, \"#f7f7f7\"], [0.6, \"#e6f5d0\"], [0.7, \"#b8e186\"], [0.8, \"#7fbc41\"], [0.9, \"#4d9221\"], [1, \"#276419\"]], \"sequential\": [[0.0, \"#0d0887\"], [0.1111111111111111, \"#46039f\"], [0.2222222222222222, \"#7201a8\"], [0.3333333333333333, \"#9c179e\"], [0.4444444444444444, \"#bd3786\"], [0.5555555555555556, \"#d8576b\"], [0.6666666666666666, \"#ed7953\"], [0.7777777777777778, \"#fb9f3a\"], [0.8888888888888888, \"#fdca26\"], [1.0, \"#f0f921\"]], \"sequentialminus\": [[0.0, \"#0d0887\"], [0.1111111111111111, \"#46039f\"], [0.2222222222222222, \"#7201a8\"], [0.3333333333333333, \"#9c179e\"], [0.4444444444444444, \"#bd3786\"], [0.5555555555555556, \"#d8576b\"], [0.6666666666666666, \"#ed7953\"], [0.7777777777777778, \"#fb9f3a\"], [0.8888888888888888, \"#fdca26\"], [1.0, \"#f0f921\"]]}, \"colorway\": [\"#636efa\", \"#EF553B\", \"#00cc96\", \"#ab63fa\", \"#FFA15A\", \"#19d3f3\", \"#FF6692\", \"#B6E880\", \"#FF97FF\", \"#FECB52\"], \"font\": {\"color\": \"#2a3f5f\"}, \"geo\": {\"bgcolor\": \"white\", \"lakecolor\": \"white\", \"landcolor\": \"#E5ECF6\", \"showlakes\": true, \"showland\": true, \"subunitcolor\": \"white\"}, \"hoverlabel\": {\"align\": \"left\"}, \"hovermode\": \"closest\", \"mapbox\": {\"style\": \"light\"}, \"paper_bgcolor\": \"white\", \"plot_bgcolor\": \"#E5ECF6\", \"polar\": {\"angularaxis\": {\"gridcolor\": \"white\", \"linecolor\": \"white\", \"ticks\": \"\"}, \"bgcolor\": \"#E5ECF6\", \"radialaxis\": {\"gridcolor\": \"white\", \"linecolor\": \"white\", \"ticks\": \"\"}}, \"scene\": {\"xaxis\": {\"backgroundcolor\": \"#E5ECF6\", \"gridcolor\": \"white\", \"gridwidth\": 2, \"linecolor\": \"white\", \"showbackground\": true, \"ticks\": \"\", \"zerolinecolor\": \"white\"}, \"yaxis\": {\"backgroundcolor\": \"#E5ECF6\", \"gridcolor\": \"white\", \"gridwidth\": 2, \"linecolor\": \"white\", \"showbackground\": true, \"ticks\": \"\", \"zerolinecolor\": \"white\"}, \"zaxis\": {\"backgroundcolor\": \"#E5ECF6\", \"gridcolor\": \"white\", \"gridwidth\": 2, \"linecolor\": \"white\", \"showbackground\": true, \"ticks\": \"\", \"zerolinecolor\": \"white\"}}, \"shapedefaults\": {\"line\": {\"color\": \"#2a3f5f\"}}, \"ternary\": {\"aaxis\": {\"gridcolor\": \"white\", \"linecolor\": \"white\", \"ticks\": \"\"}, \"baxis\": {\"gridcolor\": \"white\", \"linecolor\": \"white\", \"ticks\": \"\"}, \"bgcolor\": \"#E5ECF6\", \"caxis\": {\"gridcolor\": \"white\", \"linecolor\": \"white\", \"ticks\": \"\"}}, \"title\": {\"x\": 0.05}, \"xaxis\": {\"automargin\": true, \"gridcolor\": \"white\", \"linecolor\": \"white\", \"ticks\": \"\", \"title\": {\"standoff\": 15}, \"zerolinecolor\": \"white\", \"zerolinewidth\": 2}, \"yaxis\": {\"automargin\": true, \"gridcolor\": \"white\", \"linecolor\": \"white\", \"ticks\": \"\", \"title\": {\"standoff\": 15}, \"zerolinecolor\": \"white\", \"zerolinewidth\": 2}}}, \"xaxis\": {\"autorange\": false, \"range\": [0.005363911267647348, 0.939533173015347]}, \"yaxis\": {\"autorange\": false, \"range\": [0.6195520028432344, 1.385538166767804]}},                        {\"responsive\": true}                    ).then(function(){\n",
              "                            \n",
              "var gd = document.getElementById('481e63ac-a91a-4899-83e5-4416b57b20f5');\n",
              "var x = new MutationObserver(function (mutations, observer) {{\n",
              "        var display = window.getComputedStyle(gd).display;\n",
              "        if (!display || display === 'none') {{\n",
              "            console.log([gd, 'removed!']);\n",
              "            Plotly.purge(gd);\n",
              "            observer.disconnect();\n",
              "        }}\n",
              "}});\n",
              "\n",
              "// Listen for the removal of the full notebook cells\n",
              "var notebookContainer = gd.closest('#notebook-container');\n",
              "if (notebookContainer) {{\n",
              "    x.observe(notebookContainer, {childList: true});\n",
              "}}\n",
              "\n",
              "// Listen for the clearing of the current output cell\n",
              "var outputEl = gd.closest('.output');\n",
              "if (outputEl) {{\n",
              "    x.observe(outputEl, {childList: true});\n",
              "}}\n",
              "\n",
              "                        })                };                            </script>        </div>\n",
              "</body>\n",
              "</html>"
            ]
          },
          "metadata": {
            "tags": []
          }
        },
        {
          "output_type": "stream",
          "text": [
            "m=0.744590340022 n=0.585985005785\n"
          ],
          "name": "stdout"
        }
      ]
    },
    {
      "cell_type": "code",
      "metadata": {
        "id": "SaduwZABxUAn"
      },
      "source": [
        "# fmin\n",
        "def stright_line_fmin(x,y):\n",
        "    dist_func = lambda p: (((y-x*p[0]-p[1])**2).mean())\n",
        "    p_opt = optimize.fmin(dist_func, np.array([0,0]))\n",
        "    return p_opt"
      ],
      "execution_count": 107,
      "outputs": []
    },
    {
      "cell_type": "code",
      "metadata": {
        "id": "YbHyBnKNxUAo",
        "colab": {
          "base_uri": "https://localhost:8080/"
        },
        "outputId": "3cda6d56-1998-4dd1-ed2b-fb706c0234bb"
      },
      "source": [
        "stright_line_fmin(x,y)"
      ],
      "execution_count": 108,
      "outputs": [
        {
          "output_type": "stream",
          "text": [
            "Optimization terminated successfully.\n",
            "         Current function value: 0.001687\n",
            "         Iterations: 65\n",
            "         Function evaluations: 127\n"
          ],
          "name": "stdout"
        },
        {
          "output_type": "execute_result",
          "data": {
            "text/plain": [
              "array([0.73902423, 0.66147485])"
            ]
          },
          "metadata": {
            "tags": []
          },
          "execution_count": 108
        }
      ]
    },
    {
      "cell_type": "code",
      "metadata": {
        "id": "ij_7gUx6xUAo"
      },
      "source": [
        "# PCA\n",
        "def straight_line_pca(x,y):\n",
        "    \n",
        "    X = np.append(x-x.mean(),y-y.mean(), axis=1)\n",
        "    # Data matrix X, assumes 0-centered\n",
        "    \n",
        "    n, m = X.shape\n",
        "    # Compute covariance matrix\n",
        "    C = np.dot(X.T, X) / (n-1)\n",
        "    # Eigen decomposition\n",
        "    eigen_vals, eigen_vecs = np.linalg.eig(C)\n",
        "    # Project X onto PC space\n",
        "    X_pca_inv = np.dot(np.array([[1,0],[-1,0]]), np.linalg.inv(eigen_vecs))\n",
        "    X_pca = np.dot(X, eigen_vecs)\n",
        "    x_min = (x-x.mean()).min()\n",
        "    x_max = (x-x.mean()).max()\n",
        "    fig = go.Figure(data=[\n",
        "        go.Scatter(x=x.ravel(), y=y.ravel(), mode='markers', name='all points'),\n",
        "        go.Scatter(x=X_pca_inv[:, 0]+x.mean(), y=X_pca_inv[:,1]+y.mean(), mode='lines', name='pca estimation')])\n",
        "    fig.show()\n",
        "    return X_pca_inv[1, 1]/X_pca_inv[1, 0], y.mean() - x.mean()*X_pca_inv[1, 1]/X_pca_inv[1, 0]"
      ],
      "execution_count": 113,
      "outputs": []
    },
    {
      "cell_type": "code",
      "metadata": {
        "scrolled": false,
        "id": "pqR_misaxUAo",
        "colab": {
          "base_uri": "https://localhost:8080/",
          "height": 559
        },
        "outputId": "ed13f7bd-ecd2-43bf-961a-7bd73610d1ad"
      },
      "source": [
        "c = straight_line_pca(x[:, np.newaxis],y[:, np.newaxis])\n",
        "c"
      ],
      "execution_count": 114,
      "outputs": [
        {
          "output_type": "display_data",
          "data": {
            "text/html": [
              "<html>\n",
              "<head><meta charset=\"utf-8\" /></head>\n",
              "<body>\n",
              "    <div>            <script src=\"https://cdnjs.cloudflare.com/ajax/libs/mathjax/2.7.5/MathJax.js?config=TeX-AMS-MML_SVG\"></script><script type=\"text/javascript\">if (window.MathJax) {MathJax.Hub.Config({SVG: {font: \"STIX-Web\"}});}</script>                <script type=\"text/javascript\">window.PlotlyConfig = {MathJaxConfig: 'local'};</script>\n",
              "        <script src=\"https://cdn.plot.ly/plotly-latest.min.js\"></script>                <div id=\"d1353b5f-e0db-44b9-89fd-4905f6f55e63\" class=\"plotly-graph-div\" style=\"height:525px; width:100%;\"></div>            <script type=\"text/javascript\">                                    window.PLOTLYENV=window.PLOTLYENV || {};                                    if (document.getElementById(\"d1353b5f-e0db-44b9-89fd-4905f6f55e63\")) {                    Plotly.newPlot(                        \"d1353b5f-e0db-44b9-89fd-4905f6f55e63\",                        [{\"mode\": \"markers\", \"name\": \"all points\", \"type\": \"scatter\", \"x\": [0.375295507674828, 0.12818528023610665, 0.3644146416118028, 0.5999701848575963, 0.15360831252305296, 0.8086296425938604, 0.3331092725552721, 0.23956743918728585, 0.939533173015347, 0.34505605604223943, 0.4855628296117648, 0.8450141455358333, 0.858728454313453, 0.3060533270475724, 0.3270919727302184, 0.025268565382494668, 0.1625426068627982, 0.49142386875182364, 0.3945466457504422, 0.11203206752719885, 0.6807694464945547, 0.6165965592322428, 0.09926707740706386, 0.26822384213553896, 0.1716208877882499, 0.09666987938291871, 0.19885859550935203, 0.6767138344741898, 0.3767684971457439, 0.5208237957603598, 0.9015974809110794, 0.3516829946777593, 0.6421326105289169, 0.42341223237827974, 0.8220577697461839, 0.383135298048207, 0.7378449635149252, 0.17007953828955358, 0.0908637932332752, 0.47186423409821643, 0.5162482992095848, 0.10597275579454146, 0.16774182256160408, 0.5772237210676069, 0.6164395778078421, 0.612535261417687, 0.6871398276444666, 0.4835435284068982, 0.5868096770656556, 0.6394472454338671, 0.530912103647873, 0.5361982518197689, 0.7865182742704815, 0.8115976213472164, 0.1245368689934453, 0.6607916405706451, 0.17344032008362043, 0.7906400782408307, 0.26256069021375417, 0.6875665452836385, 0.48525874753273124, 0.005363911267647348, 0.7297967245780006, 0.08566434096815845, 0.6078083035237084, 0.16298787194020747, 0.1925963105687356, 0.3629988783116437, 0.10552531447643743, 0.5173610331748337, 0.224616142234647, 0.9356620800995294, 0.7732073208745754, 0.5457223933547916, 0.48477850176199644, 0.6580712564107831, 0.17904895677934551, 0.021957901679636516, 0.8962254908792119, 0.4150639035893172, 0.8811543034754228, 0.282479651889337, 0.05971048519328648, 0.21858524063997464, 0.40978052290333244, 0.3334182601665181, 0.21649899564721709, 0.19655088045056324, 0.7523944097413401, 0.2816024436777431, 0.011502271067134084, 0.8376878443126201, 0.5669807914988965, 0.9019228601529793, 0.641507235980527, 0.04274262753946334, 0.6935010699787999, 0.06811095871200634, 0.46493871640472484, 0.4236403551849356], \"y\": [0.9974598381971762, 0.7360190573619683, 0.9038390180751626, 1.1155287001650283, 0.7499967238413153, 1.1940842831025555, 0.9786579147033294, 0.8432132612057551, 1.3342608578723165, 0.9223012281120427, 0.9643679912467582, 1.247018237385665, 1.2509347224768348, 0.908429537844417, 0.9414583992307921, 0.6195520028432344, 0.769844104495886, 1.0554240408331257, 0.9135780164437001, 0.7166918224462131, 1.1710643905876224, 1.128017787985087, 0.7238636957353686, 0.8293395521149876, 0.8563943859389544, 0.6671829085744783, 0.7526706147736492, 1.2015493783670734, 0.947124968026765, 1.0432262309778442, 1.3333549190248406, 0.8573564277613529, 1.082020907417917, 0.9492055895924221, 1.2501132306152647, 0.9667110743253886, 1.2391574346786318, 0.7767783396750402, 0.7345419684238048, 1.05095267638766, 1.1168019084379175, 0.7279353566600751, 0.7891349419388256, 1.1401634962985685, 1.180317237620767, 1.105925243012499, 1.1052000275161484, 0.9750292345937693, 1.0458447218675662, 1.0798807823289633, 1.1220638353823893, 1.0170516075973457, 1.2600544597650043, 1.2580568148097175, 0.7578758093486981, 1.1049017197556013, 0.7265566150816446, 1.2328285910855583, 0.7993780061625709, 1.157269989151042, 1.0471350710391867, 0.7216764643129205, 1.1937065127922262, 0.7232270669685521, 1.185323768390174, 0.7992379510242961, 0.7312578310253847, 0.9692769348662577, 0.7763826107213527, 0.9865250260666673, 0.8691856279133068, 1.333623890676479, 1.266146782807101, 1.0814209373244328, 1.0925584499040064, 1.1891243539234682, 0.7463367637585524, 0.6442146670411113, 1.3222370447047733, 1.0110714803265077, 1.385538166767804, 0.8696902878311171, 0.7698556495095712, 0.8673015714553237, 1.0021727015625255, 0.9387943720404323, 0.7688004449753073, 0.8405160703316316, 1.171009561733919, 0.8607708089502447, 0.6498333250797675, 1.3028625638875282, 1.123725712400909, 1.2877671477058494, 1.1592378649364574, 0.732311936972219, 1.1236864118198293, 0.6749084758185947, 1.000519873313309, 1.0411687089393715]}, {\"mode\": \"lines\", \"name\": \"pca estimation\", \"type\": \"scatter\", \"x\": [1.2400098393741452, -0.35943170449271733], \"y\": [1.5872290990074513, 0.3864848515705598]}],                        {\"template\": {\"data\": {\"bar\": [{\"error_x\": {\"color\": \"#2a3f5f\"}, \"error_y\": {\"color\": \"#2a3f5f\"}, \"marker\": {\"line\": {\"color\": \"#E5ECF6\", \"width\": 0.5}}, \"type\": \"bar\"}], \"barpolar\": [{\"marker\": {\"line\": {\"color\": \"#E5ECF6\", \"width\": 0.5}}, \"type\": \"barpolar\"}], \"carpet\": [{\"aaxis\": {\"endlinecolor\": \"#2a3f5f\", \"gridcolor\": \"white\", \"linecolor\": \"white\", \"minorgridcolor\": \"white\", \"startlinecolor\": \"#2a3f5f\"}, \"baxis\": {\"endlinecolor\": \"#2a3f5f\", \"gridcolor\": \"white\", \"linecolor\": \"white\", \"minorgridcolor\": \"white\", \"startlinecolor\": \"#2a3f5f\"}, \"type\": \"carpet\"}], \"choropleth\": [{\"colorbar\": {\"outlinewidth\": 0, \"ticks\": \"\"}, \"type\": \"choropleth\"}], \"contour\": [{\"colorbar\": {\"outlinewidth\": 0, \"ticks\": \"\"}, \"colorscale\": [[0.0, \"#0d0887\"], [0.1111111111111111, \"#46039f\"], [0.2222222222222222, \"#7201a8\"], [0.3333333333333333, \"#9c179e\"], [0.4444444444444444, \"#bd3786\"], [0.5555555555555556, \"#d8576b\"], [0.6666666666666666, \"#ed7953\"], [0.7777777777777778, \"#fb9f3a\"], [0.8888888888888888, \"#fdca26\"], [1.0, \"#f0f921\"]], \"type\": \"contour\"}], \"contourcarpet\": [{\"colorbar\": {\"outlinewidth\": 0, \"ticks\": \"\"}, \"type\": \"contourcarpet\"}], \"heatmap\": [{\"colorbar\": {\"outlinewidth\": 0, \"ticks\": \"\"}, \"colorscale\": [[0.0, \"#0d0887\"], [0.1111111111111111, \"#46039f\"], [0.2222222222222222, \"#7201a8\"], [0.3333333333333333, \"#9c179e\"], [0.4444444444444444, \"#bd3786\"], [0.5555555555555556, \"#d8576b\"], [0.6666666666666666, \"#ed7953\"], [0.7777777777777778, \"#fb9f3a\"], [0.8888888888888888, \"#fdca26\"], [1.0, \"#f0f921\"]], \"type\": \"heatmap\"}], \"heatmapgl\": [{\"colorbar\": {\"outlinewidth\": 0, \"ticks\": \"\"}, \"colorscale\": [[0.0, \"#0d0887\"], [0.1111111111111111, \"#46039f\"], [0.2222222222222222, \"#7201a8\"], [0.3333333333333333, \"#9c179e\"], [0.4444444444444444, \"#bd3786\"], [0.5555555555555556, \"#d8576b\"], [0.6666666666666666, \"#ed7953\"], [0.7777777777777778, \"#fb9f3a\"], [0.8888888888888888, \"#fdca26\"], [1.0, \"#f0f921\"]], \"type\": \"heatmapgl\"}], \"histogram\": [{\"marker\": {\"colorbar\": {\"outlinewidth\": 0, \"ticks\": \"\"}}, \"type\": \"histogram\"}], \"histogram2d\": [{\"colorbar\": {\"outlinewidth\": 0, \"ticks\": \"\"}, \"colorscale\": [[0.0, \"#0d0887\"], [0.1111111111111111, \"#46039f\"], [0.2222222222222222, \"#7201a8\"], [0.3333333333333333, \"#9c179e\"], [0.4444444444444444, \"#bd3786\"], [0.5555555555555556, \"#d8576b\"], [0.6666666666666666, \"#ed7953\"], [0.7777777777777778, \"#fb9f3a\"], [0.8888888888888888, \"#fdca26\"], [1.0, \"#f0f921\"]], \"type\": \"histogram2d\"}], \"histogram2dcontour\": [{\"colorbar\": {\"outlinewidth\": 0, \"ticks\": \"\"}, \"colorscale\": [[0.0, \"#0d0887\"], [0.1111111111111111, \"#46039f\"], [0.2222222222222222, \"#7201a8\"], [0.3333333333333333, \"#9c179e\"], [0.4444444444444444, \"#bd3786\"], [0.5555555555555556, \"#d8576b\"], [0.6666666666666666, \"#ed7953\"], [0.7777777777777778, \"#fb9f3a\"], [0.8888888888888888, \"#fdca26\"], [1.0, \"#f0f921\"]], \"type\": \"histogram2dcontour\"}], \"mesh3d\": [{\"colorbar\": {\"outlinewidth\": 0, \"ticks\": \"\"}, \"type\": \"mesh3d\"}], \"parcoords\": [{\"line\": {\"colorbar\": {\"outlinewidth\": 0, \"ticks\": \"\"}}, \"type\": \"parcoords\"}], \"pie\": [{\"automargin\": true, \"type\": \"pie\"}], \"scatter\": [{\"marker\": {\"colorbar\": {\"outlinewidth\": 0, \"ticks\": \"\"}}, \"type\": \"scatter\"}], \"scatter3d\": [{\"line\": {\"colorbar\": {\"outlinewidth\": 0, \"ticks\": \"\"}}, \"marker\": {\"colorbar\": {\"outlinewidth\": 0, \"ticks\": \"\"}}, \"type\": \"scatter3d\"}], \"scattercarpet\": [{\"marker\": {\"colorbar\": {\"outlinewidth\": 0, \"ticks\": \"\"}}, \"type\": \"scattercarpet\"}], \"scattergeo\": [{\"marker\": {\"colorbar\": {\"outlinewidth\": 0, \"ticks\": \"\"}}, \"type\": \"scattergeo\"}], \"scattergl\": [{\"marker\": {\"colorbar\": {\"outlinewidth\": 0, \"ticks\": \"\"}}, \"type\": \"scattergl\"}], \"scattermapbox\": [{\"marker\": {\"colorbar\": {\"outlinewidth\": 0, \"ticks\": \"\"}}, \"type\": \"scattermapbox\"}], \"scatterpolar\": [{\"marker\": {\"colorbar\": {\"outlinewidth\": 0, \"ticks\": \"\"}}, \"type\": \"scatterpolar\"}], \"scatterpolargl\": [{\"marker\": {\"colorbar\": {\"outlinewidth\": 0, \"ticks\": \"\"}}, \"type\": \"scatterpolargl\"}], \"scatterternary\": [{\"marker\": {\"colorbar\": {\"outlinewidth\": 0, \"ticks\": \"\"}}, \"type\": \"scatterternary\"}], \"surface\": [{\"colorbar\": {\"outlinewidth\": 0, \"ticks\": \"\"}, \"colorscale\": [[0.0, \"#0d0887\"], [0.1111111111111111, \"#46039f\"], [0.2222222222222222, \"#7201a8\"], [0.3333333333333333, \"#9c179e\"], [0.4444444444444444, \"#bd3786\"], [0.5555555555555556, \"#d8576b\"], [0.6666666666666666, \"#ed7953\"], [0.7777777777777778, \"#fb9f3a\"], [0.8888888888888888, \"#fdca26\"], [1.0, \"#f0f921\"]], \"type\": \"surface\"}], \"table\": [{\"cells\": {\"fill\": {\"color\": \"#EBF0F8\"}, \"line\": {\"color\": \"white\"}}, \"header\": {\"fill\": {\"color\": \"#C8D4E3\"}, \"line\": {\"color\": \"white\"}}, \"type\": \"table\"}]}, \"layout\": {\"annotationdefaults\": {\"arrowcolor\": \"#2a3f5f\", \"arrowhead\": 0, \"arrowwidth\": 1}, \"autotypenumbers\": \"strict\", \"coloraxis\": {\"colorbar\": {\"outlinewidth\": 0, \"ticks\": \"\"}}, \"colorscale\": {\"diverging\": [[0, \"#8e0152\"], [0.1, \"#c51b7d\"], [0.2, \"#de77ae\"], [0.3, \"#f1b6da\"], [0.4, \"#fde0ef\"], [0.5, \"#f7f7f7\"], [0.6, \"#e6f5d0\"], [0.7, \"#b8e186\"], [0.8, \"#7fbc41\"], [0.9, \"#4d9221\"], [1, \"#276419\"]], \"sequential\": [[0.0, \"#0d0887\"], [0.1111111111111111, \"#46039f\"], [0.2222222222222222, \"#7201a8\"], [0.3333333333333333, \"#9c179e\"], [0.4444444444444444, \"#bd3786\"], [0.5555555555555556, \"#d8576b\"], [0.6666666666666666, \"#ed7953\"], [0.7777777777777778, \"#fb9f3a\"], [0.8888888888888888, \"#fdca26\"], [1.0, \"#f0f921\"]], \"sequentialminus\": [[0.0, \"#0d0887\"], [0.1111111111111111, \"#46039f\"], [0.2222222222222222, \"#7201a8\"], [0.3333333333333333, \"#9c179e\"], [0.4444444444444444, \"#bd3786\"], [0.5555555555555556, \"#d8576b\"], [0.6666666666666666, \"#ed7953\"], [0.7777777777777778, \"#fb9f3a\"], [0.8888888888888888, \"#fdca26\"], [1.0, \"#f0f921\"]]}, \"colorway\": [\"#636efa\", \"#EF553B\", \"#00cc96\", \"#ab63fa\", \"#FFA15A\", \"#19d3f3\", \"#FF6692\", \"#B6E880\", \"#FF97FF\", \"#FECB52\"], \"font\": {\"color\": \"#2a3f5f\"}, \"geo\": {\"bgcolor\": \"white\", \"lakecolor\": \"white\", \"landcolor\": \"#E5ECF6\", \"showlakes\": true, \"showland\": true, \"subunitcolor\": \"white\"}, \"hoverlabel\": {\"align\": \"left\"}, \"hovermode\": \"closest\", \"mapbox\": {\"style\": \"light\"}, \"paper_bgcolor\": \"white\", \"plot_bgcolor\": \"#E5ECF6\", \"polar\": {\"angularaxis\": {\"gridcolor\": \"white\", \"linecolor\": \"white\", \"ticks\": \"\"}, \"bgcolor\": \"#E5ECF6\", \"radialaxis\": {\"gridcolor\": \"white\", \"linecolor\": \"white\", \"ticks\": \"\"}}, \"scene\": {\"xaxis\": {\"backgroundcolor\": \"#E5ECF6\", \"gridcolor\": \"white\", \"gridwidth\": 2, \"linecolor\": \"white\", \"showbackground\": true, \"ticks\": \"\", \"zerolinecolor\": \"white\"}, \"yaxis\": {\"backgroundcolor\": \"#E5ECF6\", \"gridcolor\": \"white\", \"gridwidth\": 2, \"linecolor\": \"white\", \"showbackground\": true, \"ticks\": \"\", \"zerolinecolor\": \"white\"}, \"zaxis\": {\"backgroundcolor\": \"#E5ECF6\", \"gridcolor\": \"white\", \"gridwidth\": 2, \"linecolor\": \"white\", \"showbackground\": true, \"ticks\": \"\", \"zerolinecolor\": \"white\"}}, \"shapedefaults\": {\"line\": {\"color\": \"#2a3f5f\"}}, \"ternary\": {\"aaxis\": {\"gridcolor\": \"white\", \"linecolor\": \"white\", \"ticks\": \"\"}, \"baxis\": {\"gridcolor\": \"white\", \"linecolor\": \"white\", \"ticks\": \"\"}, \"bgcolor\": \"#E5ECF6\", \"caxis\": {\"gridcolor\": \"white\", \"linecolor\": \"white\", \"ticks\": \"\"}}, \"title\": {\"x\": 0.05}, \"xaxis\": {\"automargin\": true, \"gridcolor\": \"white\", \"linecolor\": \"white\", \"ticks\": \"\", \"title\": {\"standoff\": 15}, \"zerolinecolor\": \"white\", \"zerolinewidth\": 2}, \"yaxis\": {\"automargin\": true, \"gridcolor\": \"white\", \"linecolor\": \"white\", \"ticks\": \"\", \"title\": {\"standoff\": 15}, \"zerolinecolor\": \"white\", \"zerolinewidth\": 2}}}},                        {\"responsive\": true}                    ).then(function(){\n",
              "                            \n",
              "var gd = document.getElementById('d1353b5f-e0db-44b9-89fd-4905f6f55e63');\n",
              "var x = new MutationObserver(function (mutations, observer) {{\n",
              "        var display = window.getComputedStyle(gd).display;\n",
              "        if (!display || display === 'none') {{\n",
              "            console.log([gd, 'removed!']);\n",
              "            Plotly.purge(gd);\n",
              "            observer.disconnect();\n",
              "        }}\n",
              "}});\n",
              "\n",
              "// Listen for the removal of the full notebook cells\n",
              "var notebookContainer = gd.closest('#notebook-container');\n",
              "if (notebookContainer) {{\n",
              "    x.observe(notebookContainer, {childList: true});\n",
              "}}\n",
              "\n",
              "// Listen for the clearing of the current output cell\n",
              "var outputEl = gd.closest('.output');\n",
              "if (outputEl) {{\n",
              "    x.observe(outputEl, {childList: true});\n",
              "}}\n",
              "\n",
              "                        })                };                            </script>        </div>\n",
              "</body>\n",
              "</html>"
            ]
          },
          "metadata": {
            "tags": []
          }
        },
        {
          "output_type": "execute_result",
          "data": {
            "text/plain": [
              "(0.7507271847734633, 0.6563200032027048)"
            ]
          },
          "metadata": {
            "tags": []
          },
          "execution_count": 114
        }
      ]
    },
    {
      "cell_type": "code",
      "metadata": {
        "id": "lnvOuhAhxUAp"
      },
      "source": [
        "#leaset squares\n",
        "def least_square_fit(x, y):\n",
        "    # model: y_i = h*x_i\n",
        "    # cost: (Y-h*X)^T * (Y-h*X)\n",
        "    # solution: h = (X^t *X)^-1 * X^t * Y\n",
        "    return np.dot(np.linalg.inv(np.dot(x.transpose(), x)), np.dot(x.transpose() , y))"
      ],
      "execution_count": 115,
      "outputs": []
    },
    {
      "cell_type": "code",
      "metadata": {
        "id": "FveGDup7xUAp",
        "colab": {
          "base_uri": "https://localhost:8080/"
        },
        "outputId": "a59b6914-6223-4a31-b619-321380a42ad0"
      },
      "source": [
        "least_square_fit(np.append(x[:, np.newaxis], np.ones_like(x[:, np.newaxis]), axis=1), y)"
      ],
      "execution_count": 116,
      "outputs": [
        {
          "output_type": "execute_result",
          "data": {
            "text/plain": [
              "array([0.73905692, 0.66145829])"
            ]
          },
          "metadata": {
            "tags": []
          },
          "execution_count": 116
        }
      ]
    },
    {
      "cell_type": "code",
      "metadata": {
        "id": "vbxfzugyxUAp"
      },
      "source": [
        "# SVd\n",
        "def svd_fit(x, y):\n",
        "    # model: y_i = h*x_i\n",
        "    # minimize: [x_0, 1, -y_0; x1, 1, -y_1; ...]*[h, 1] = Xh = 0\n",
        "    # do so by: eigenvector coresponds to smallest eigenvalue of X\n",
        "    X = np.append(x, -y, axis=1)\n",
        "    u, s, vh = np.linalg.svd(X)\n",
        "    return vh[-1, :2]/vh[-1,-1]"
      ],
      "execution_count": 127,
      "outputs": []
    },
    {
      "cell_type": "code",
      "metadata": {
        "id": "RtrUREqqxUAp",
        "colab": {
          "base_uri": "https://localhost:8080/"
        },
        "outputId": "48d8b10a-6b77-4f6b-bc06-b8b2b8d9d97e"
      },
      "source": [
        "m_, n_ = svd_fit(np.append(x[:, np.newaxis], np.ones_like(x[:, np.newaxis]), axis=1), y[:, np.newaxis])\n",
        "print(m_, n_)"
      ],
      "execution_count": 129,
      "outputs": [
        {
          "output_type": "stream",
          "text": [
            "(0.7445827664252567, 0.6595856086525708)\n"
          ],
          "name": "stdout"
        }
      ]
    },
    {
      "cell_type": "code",
      "metadata": {
        "id": "pNPJ3CK4xUAp"
      },
      "source": [
        "#Ransac\n",
        "def ransac(src_pnts, distance_func, model_func, num_of_points_to_determine_model, \n",
        "           dist_th, inliers_ratio=0.7, p=0.95):\n",
        "    \"\"\"Summary or Description of the Function\n",
        "\n",
        "    Parameters:\n",
        "    src_pnt : data points used by Ransac to find the model\n",
        "    distance_func : a function pointer to a distance function. \n",
        "    The distance function takes a model and a point and calculate the cost\n",
        "    p : success probabilaty\n",
        "\n",
        "    Returns:\n",
        "    int:Returning value\n",
        "\n",
        "   \"\"\"\n",
        "\n",
        "    min_x = src_pnts[:, 0].min()\n",
        "    max_x = src_pnts[:, 0].max()\n",
        "    print(min_x, max_x)\n",
        "    num_of_points = src_pnts.shape[0]\n",
        "    num_of_iter = int(np.ceil(np.log(1-p)/np.log(1-inliers_ratio**num_of_points_to_determine_model)))\n",
        "    proposed_line = []\n",
        "    max_num_of_inliers = 0\n",
        "    for i in range(num_of_iter):\n",
        "        indx = np.random.permutation(num_of_points)[:num_of_points_to_determine_model]\n",
        "        curr_model = model_func(src_pnts[indx, :])\n",
        "        x=np.array([min_x, max_x])\n",
        "        y=curr_model(x)\n",
        "        print(y)\n",
        "        d = distance_func(curr_model, src_pnts)\n",
        "        num_of_inliers = np.sum(d<dist_th)\n",
        "        proposed_line.append((curr_model, x, y, indx, d, num_of_inliers))\n",
        "        if num_of_inliers > max_num_of_inliers:\n",
        "            max_num_of_inliers = num_of_inliers\n",
        "            best_model = curr_model\n",
        "    return best_model, proposed_line\n",
        "        \n",
        "        "
      ],
      "execution_count": 154,
      "outputs": []
    },
    {
      "cell_type": "code",
      "metadata": {
        "id": "PxgyAQ7uxUAq"
      },
      "source": [
        "def stright_line_from_two_points(pnts):\n",
        "    m = (pnts[1, 1]-pnts[0,1])/(pnts[1,0]-pnts[0,0])\n",
        "    n = (pnts[1,0]*pnts[0,1]-pnts[0,0]*pnts[1,1])/(pnts[1,0]-pnts[0,0])\n",
        "    mod_func = lambda x : x*m + n\n",
        "    return mod_func"
      ],
      "execution_count": 155,
      "outputs": []
    },
    {
      "cell_type": "code",
      "metadata": {
        "id": "RC-Q3vO_xUAq"
      },
      "source": [
        "src_pnts = np.array([x, y]).transpose()\n",
        "distance_func = lambda model, pnts : (model(pnts[:, 0]) - pnts[:, 1])**2\n",
        "model_func = stright_line_from_two_points\n",
        "num_of_points_to_determine_model = 2\n",
        "dist_th = 0.2"
      ],
      "execution_count": 156,
      "outputs": []
    },
    {
      "cell_type": "code",
      "metadata": {
        "id": "oLpvVEdXxUAq",
        "colab": {
          "base_uri": "https://localhost:8080/"
        },
        "outputId": "e732f075-1c29-4cf7-9059-aa49f5b47487"
      },
      "source": [
        "best_model, ransac_run = ransac(src_pnts, distance_func, model_func, num_of_points_to_determine_model, dist_th)\n",
        "print(x.min())\n",
        "print(x.max())\n",
        "x_ransac = np.array([x.min(), x.max()])\n",
        "y_ransac = best_model(x_ransac)\n",
        "print(y_ransac)"
      ],
      "execution_count": 163,
      "outputs": [
        {
          "output_type": "stream",
          "text": [
            "(0.005363911267647348, 0.939533173015347)\n",
            "[0.62125787 1.45704118]\n",
            "[0.57324424 1.39458894]\n",
            "[-2.81628889  3.38873782]\n",
            "[0.54967848 1.60171453]\n",
            "[0.57742033 1.72106373]\n",
            "0.005363911267647348\n",
            "0.939533173015347\n",
            "[0.62125787 1.45704118]\n"
          ],
          "name": "stdout"
        }
      ]
    },
    {
      "cell_type": "code",
      "metadata": {
        "id": "-4Au3fDQxUAq"
      },
      "source": [
        "scatter_xy = go.Scatter(x=x, y=y, mode='markers', name=\"all points\")\n",
        "frames=[go.Frame(\n",
        "    data=[scatter_xy, \n",
        "          go.Scatter(x=x[item[3]], y=y[item[3]], mode='markers', line=dict(width=2, color=\"red\"), name=\"selected points\"), \n",
        "          go.Scatter(x=item[1], y=item[2], mode='lines', name='current line')]) for item in ransac_run]"
      ],
      "execution_count": 164,
      "outputs": []
    },
    {
      "cell_type": "code",
      "metadata": {
        "id": "MJNBj9DxxUAr",
        "colab": {
          "base_uri": "https://localhost:8080/",
          "height": 542
        },
        "outputId": "b1577fec-54b4-47e9-eb9f-03c9891bf118"
      },
      "source": [
        "fig = go.Figure(\n",
        "    data=[go.Scatter(x=x, y=y, mode='markers', name='all points'), \n",
        "          go.Scatter(x=x, y=y, mode='markers', name=\"selected points\"), \n",
        "          go.Scatter(x=x, y=y, mode='markers', name=\"current line\"),\n",
        "          go.Scatter(x=x_ransac, y=y_ransac, mode='lines', name=\"best selection\")],\n",
        "    layout=go.Layout(\n",
        "        xaxis=dict(range=[np.min(x), np.max(x)], autorange=False),\n",
        "        yaxis=dict(range=[np.min(y), np.max(y)], autorange=False),\n",
        "        title=\"Ransac guesses\",\n",
        "        updatemenus=[dict(\n",
        "            type=\"buttons\",\n",
        "            buttons=[dict(label=\"Play\",\n",
        "                          method=\"animate\",\n",
        "                          args=[None])])]\n",
        "    ),\n",
        "    frames=frames\n",
        ")\n",
        "\n",
        "fig.show()"
      ],
      "execution_count": 165,
      "outputs": [
        {
          "output_type": "display_data",
          "data": {
            "text/html": [
              "<html>\n",
              "<head><meta charset=\"utf-8\" /></head>\n",
              "<body>\n",
              "    <div>            <script src=\"https://cdnjs.cloudflare.com/ajax/libs/mathjax/2.7.5/MathJax.js?config=TeX-AMS-MML_SVG\"></script><script type=\"text/javascript\">if (window.MathJax) {MathJax.Hub.Config({SVG: {font: \"STIX-Web\"}});}</script>                <script type=\"text/javascript\">window.PlotlyConfig = {MathJaxConfig: 'local'};</script>\n",
              "        <script src=\"https://cdn.plot.ly/plotly-latest.min.js\"></script>                <div id=\"2cf252da-e433-402a-baab-a166065e6a6f\" class=\"plotly-graph-div\" style=\"height:525px; width:100%;\"></div>            <script type=\"text/javascript\">                                    window.PLOTLYENV=window.PLOTLYENV || {};                                    if (document.getElementById(\"2cf252da-e433-402a-baab-a166065e6a6f\")) {                    Plotly.newPlot(                        \"2cf252da-e433-402a-baab-a166065e6a6f\",                        [{\"mode\": \"markers\", \"name\": \"all points\", \"type\": \"scatter\", \"x\": [0.375295507674828, 0.12818528023610665, 0.3644146416118028, 0.5999701848575963, 0.15360831252305296, 0.8086296425938604, 0.3331092725552721, 0.23956743918728585, 0.939533173015347, 0.34505605604223943, 0.4855628296117648, 0.8450141455358333, 0.858728454313453, 0.3060533270475724, 0.3270919727302184, 0.025268565382494668, 0.1625426068627982, 0.49142386875182364, 0.3945466457504422, 0.11203206752719885, 0.6807694464945547, 0.6165965592322428, 0.09926707740706386, 0.26822384213553896, 0.1716208877882499, 0.09666987938291871, 0.19885859550935203, 0.6767138344741898, 0.3767684971457439, 0.5208237957603598, 0.9015974809110794, 0.3516829946777593, 0.6421326105289169, 0.42341223237827974, 0.8220577697461839, 0.383135298048207, 0.7378449635149252, 0.17007953828955358, 0.0908637932332752, 0.47186423409821643, 0.5162482992095848, 0.10597275579454146, 0.16774182256160408, 0.5772237210676069, 0.6164395778078421, 0.612535261417687, 0.6871398276444666, 0.4835435284068982, 0.5868096770656556, 0.6394472454338671, 0.530912103647873, 0.5361982518197689, 0.7865182742704815, 0.8115976213472164, 0.1245368689934453, 0.6607916405706451, 0.17344032008362043, 0.7906400782408307, 0.26256069021375417, 0.6875665452836385, 0.48525874753273124, 0.005363911267647348, 0.7297967245780006, 0.08566434096815845, 0.6078083035237084, 0.16298787194020747, 0.1925963105687356, 0.3629988783116437, 0.10552531447643743, 0.5173610331748337, 0.224616142234647, 0.9356620800995294, 0.7732073208745754, 0.5457223933547916, 0.48477850176199644, 0.6580712564107831, 0.17904895677934551, 0.021957901679636516, 0.8962254908792119, 0.4150639035893172, 0.8811543034754228, 0.282479651889337, 0.05971048519328648, 0.21858524063997464, 0.40978052290333244, 0.3334182601665181, 0.21649899564721709, 0.19655088045056324, 0.7523944097413401, 0.2816024436777431, 0.011502271067134084, 0.8376878443126201, 0.5669807914988965, 0.9019228601529793, 0.641507235980527, 0.04274262753946334, 0.6935010699787999, 0.06811095871200634, 0.46493871640472484, 0.4236403551849356], \"y\": [0.9974598381971762, 0.7360190573619683, 0.9038390180751626, 1.1155287001650283, 0.7499967238413153, 1.1940842831025555, 0.9786579147033294, 0.8432132612057551, 1.3342608578723165, 0.9223012281120427, 0.9643679912467582, 1.247018237385665, 1.2509347224768348, 0.908429537844417, 0.9414583992307921, 0.6195520028432344, 0.769844104495886, 1.0554240408331257, 0.9135780164437001, 0.7166918224462131, 1.1710643905876224, 1.128017787985087, 0.7238636957353686, 0.8293395521149876, 0.8563943859389544, 0.6671829085744783, 0.7526706147736492, 1.2015493783670734, 0.947124968026765, 1.0432262309778442, 1.3333549190248406, 0.8573564277613529, 1.082020907417917, 0.9492055895924221, 1.2501132306152647, 0.9667110743253886, 1.2391574346786318, 0.7767783396750402, 0.7345419684238048, 1.05095267638766, 1.1168019084379175, 0.7279353566600751, 0.7891349419388256, 1.1401634962985685, 1.180317237620767, 1.105925243012499, 1.1052000275161484, 0.9750292345937693, 1.0458447218675662, 1.0798807823289633, 1.1220638353823893, 1.0170516075973457, 1.2600544597650043, 1.2580568148097175, 0.7578758093486981, 1.1049017197556013, 0.7265566150816446, 1.2328285910855583, 0.7993780061625709, 1.157269989151042, 1.0471350710391867, 0.7216764643129205, 1.1937065127922262, 0.7232270669685521, 1.185323768390174, 0.7992379510242961, 0.7312578310253847, 0.9692769348662577, 0.7763826107213527, 0.9865250260666673, 0.8691856279133068, 1.333623890676479, 1.266146782807101, 1.0814209373244328, 1.0925584499040064, 1.1891243539234682, 0.7463367637585524, 0.6442146670411113, 1.3222370447047733, 1.0110714803265077, 1.385538166767804, 0.8696902878311171, 0.7698556495095712, 0.8673015714553237, 1.0021727015625255, 0.9387943720404323, 0.7688004449753073, 0.8405160703316316, 1.171009561733919, 0.8607708089502447, 0.6498333250797675, 1.3028625638875282, 1.123725712400909, 1.2877671477058494, 1.1592378649364574, 0.732311936972219, 1.1236864118198293, 0.6749084758185947, 1.000519873313309, 1.0411687089393715]}, {\"mode\": \"markers\", \"name\": \"selected points\", \"type\": \"scatter\", \"x\": [0.375295507674828, 0.12818528023610665, 0.3644146416118028, 0.5999701848575963, 0.15360831252305296, 0.8086296425938604, 0.3331092725552721, 0.23956743918728585, 0.939533173015347, 0.34505605604223943, 0.4855628296117648, 0.8450141455358333, 0.858728454313453, 0.3060533270475724, 0.3270919727302184, 0.025268565382494668, 0.1625426068627982, 0.49142386875182364, 0.3945466457504422, 0.11203206752719885, 0.6807694464945547, 0.6165965592322428, 0.09926707740706386, 0.26822384213553896, 0.1716208877882499, 0.09666987938291871, 0.19885859550935203, 0.6767138344741898, 0.3767684971457439, 0.5208237957603598, 0.9015974809110794, 0.3516829946777593, 0.6421326105289169, 0.42341223237827974, 0.8220577697461839, 0.383135298048207, 0.7378449635149252, 0.17007953828955358, 0.0908637932332752, 0.47186423409821643, 0.5162482992095848, 0.10597275579454146, 0.16774182256160408, 0.5772237210676069, 0.6164395778078421, 0.612535261417687, 0.6871398276444666, 0.4835435284068982, 0.5868096770656556, 0.6394472454338671, 0.530912103647873, 0.5361982518197689, 0.7865182742704815, 0.8115976213472164, 0.1245368689934453, 0.6607916405706451, 0.17344032008362043, 0.7906400782408307, 0.26256069021375417, 0.6875665452836385, 0.48525874753273124, 0.005363911267647348, 0.7297967245780006, 0.08566434096815845, 0.6078083035237084, 0.16298787194020747, 0.1925963105687356, 0.3629988783116437, 0.10552531447643743, 0.5173610331748337, 0.224616142234647, 0.9356620800995294, 0.7732073208745754, 0.5457223933547916, 0.48477850176199644, 0.6580712564107831, 0.17904895677934551, 0.021957901679636516, 0.8962254908792119, 0.4150639035893172, 0.8811543034754228, 0.282479651889337, 0.05971048519328648, 0.21858524063997464, 0.40978052290333244, 0.3334182601665181, 0.21649899564721709, 0.19655088045056324, 0.7523944097413401, 0.2816024436777431, 0.011502271067134084, 0.8376878443126201, 0.5669807914988965, 0.9019228601529793, 0.641507235980527, 0.04274262753946334, 0.6935010699787999, 0.06811095871200634, 0.46493871640472484, 0.4236403551849356], \"y\": [0.9974598381971762, 0.7360190573619683, 0.9038390180751626, 1.1155287001650283, 0.7499967238413153, 1.1940842831025555, 0.9786579147033294, 0.8432132612057551, 1.3342608578723165, 0.9223012281120427, 0.9643679912467582, 1.247018237385665, 1.2509347224768348, 0.908429537844417, 0.9414583992307921, 0.6195520028432344, 0.769844104495886, 1.0554240408331257, 0.9135780164437001, 0.7166918224462131, 1.1710643905876224, 1.128017787985087, 0.7238636957353686, 0.8293395521149876, 0.8563943859389544, 0.6671829085744783, 0.7526706147736492, 1.2015493783670734, 0.947124968026765, 1.0432262309778442, 1.3333549190248406, 0.8573564277613529, 1.082020907417917, 0.9492055895924221, 1.2501132306152647, 0.9667110743253886, 1.2391574346786318, 0.7767783396750402, 0.7345419684238048, 1.05095267638766, 1.1168019084379175, 0.7279353566600751, 0.7891349419388256, 1.1401634962985685, 1.180317237620767, 1.105925243012499, 1.1052000275161484, 0.9750292345937693, 1.0458447218675662, 1.0798807823289633, 1.1220638353823893, 1.0170516075973457, 1.2600544597650043, 1.2580568148097175, 0.7578758093486981, 1.1049017197556013, 0.7265566150816446, 1.2328285910855583, 0.7993780061625709, 1.157269989151042, 1.0471350710391867, 0.7216764643129205, 1.1937065127922262, 0.7232270669685521, 1.185323768390174, 0.7992379510242961, 0.7312578310253847, 0.9692769348662577, 0.7763826107213527, 0.9865250260666673, 0.8691856279133068, 1.333623890676479, 1.266146782807101, 1.0814209373244328, 1.0925584499040064, 1.1891243539234682, 0.7463367637585524, 0.6442146670411113, 1.3222370447047733, 1.0110714803265077, 1.385538166767804, 0.8696902878311171, 0.7698556495095712, 0.8673015714553237, 1.0021727015625255, 0.9387943720404323, 0.7688004449753073, 0.8405160703316316, 1.171009561733919, 0.8607708089502447, 0.6498333250797675, 1.3028625638875282, 1.123725712400909, 1.2877671477058494, 1.1592378649364574, 0.732311936972219, 1.1236864118198293, 0.6749084758185947, 1.000519873313309, 1.0411687089393715]}, {\"mode\": \"markers\", \"name\": \"current line\", \"type\": \"scatter\", \"x\": [0.375295507674828, 0.12818528023610665, 0.3644146416118028, 0.5999701848575963, 0.15360831252305296, 0.8086296425938604, 0.3331092725552721, 0.23956743918728585, 0.939533173015347, 0.34505605604223943, 0.4855628296117648, 0.8450141455358333, 0.858728454313453, 0.3060533270475724, 0.3270919727302184, 0.025268565382494668, 0.1625426068627982, 0.49142386875182364, 0.3945466457504422, 0.11203206752719885, 0.6807694464945547, 0.6165965592322428, 0.09926707740706386, 0.26822384213553896, 0.1716208877882499, 0.09666987938291871, 0.19885859550935203, 0.6767138344741898, 0.3767684971457439, 0.5208237957603598, 0.9015974809110794, 0.3516829946777593, 0.6421326105289169, 0.42341223237827974, 0.8220577697461839, 0.383135298048207, 0.7378449635149252, 0.17007953828955358, 0.0908637932332752, 0.47186423409821643, 0.5162482992095848, 0.10597275579454146, 0.16774182256160408, 0.5772237210676069, 0.6164395778078421, 0.612535261417687, 0.6871398276444666, 0.4835435284068982, 0.5868096770656556, 0.6394472454338671, 0.530912103647873, 0.5361982518197689, 0.7865182742704815, 0.8115976213472164, 0.1245368689934453, 0.6607916405706451, 0.17344032008362043, 0.7906400782408307, 0.26256069021375417, 0.6875665452836385, 0.48525874753273124, 0.005363911267647348, 0.7297967245780006, 0.08566434096815845, 0.6078083035237084, 0.16298787194020747, 0.1925963105687356, 0.3629988783116437, 0.10552531447643743, 0.5173610331748337, 0.224616142234647, 0.9356620800995294, 0.7732073208745754, 0.5457223933547916, 0.48477850176199644, 0.6580712564107831, 0.17904895677934551, 0.021957901679636516, 0.8962254908792119, 0.4150639035893172, 0.8811543034754228, 0.282479651889337, 0.05971048519328648, 0.21858524063997464, 0.40978052290333244, 0.3334182601665181, 0.21649899564721709, 0.19655088045056324, 0.7523944097413401, 0.2816024436777431, 0.011502271067134084, 0.8376878443126201, 0.5669807914988965, 0.9019228601529793, 0.641507235980527, 0.04274262753946334, 0.6935010699787999, 0.06811095871200634, 0.46493871640472484, 0.4236403551849356], \"y\": [0.9974598381971762, 0.7360190573619683, 0.9038390180751626, 1.1155287001650283, 0.7499967238413153, 1.1940842831025555, 0.9786579147033294, 0.8432132612057551, 1.3342608578723165, 0.9223012281120427, 0.9643679912467582, 1.247018237385665, 1.2509347224768348, 0.908429537844417, 0.9414583992307921, 0.6195520028432344, 0.769844104495886, 1.0554240408331257, 0.9135780164437001, 0.7166918224462131, 1.1710643905876224, 1.128017787985087, 0.7238636957353686, 0.8293395521149876, 0.8563943859389544, 0.6671829085744783, 0.7526706147736492, 1.2015493783670734, 0.947124968026765, 1.0432262309778442, 1.3333549190248406, 0.8573564277613529, 1.082020907417917, 0.9492055895924221, 1.2501132306152647, 0.9667110743253886, 1.2391574346786318, 0.7767783396750402, 0.7345419684238048, 1.05095267638766, 1.1168019084379175, 0.7279353566600751, 0.7891349419388256, 1.1401634962985685, 1.180317237620767, 1.105925243012499, 1.1052000275161484, 0.9750292345937693, 1.0458447218675662, 1.0798807823289633, 1.1220638353823893, 1.0170516075973457, 1.2600544597650043, 1.2580568148097175, 0.7578758093486981, 1.1049017197556013, 0.7265566150816446, 1.2328285910855583, 0.7993780061625709, 1.157269989151042, 1.0471350710391867, 0.7216764643129205, 1.1937065127922262, 0.7232270669685521, 1.185323768390174, 0.7992379510242961, 0.7312578310253847, 0.9692769348662577, 0.7763826107213527, 0.9865250260666673, 0.8691856279133068, 1.333623890676479, 1.266146782807101, 1.0814209373244328, 1.0925584499040064, 1.1891243539234682, 0.7463367637585524, 0.6442146670411113, 1.3222370447047733, 1.0110714803265077, 1.385538166767804, 0.8696902878311171, 0.7698556495095712, 0.8673015714553237, 1.0021727015625255, 0.9387943720404323, 0.7688004449753073, 0.8405160703316316, 1.171009561733919, 0.8607708089502447, 0.6498333250797675, 1.3028625638875282, 1.123725712400909, 1.2877671477058494, 1.1592378649364574, 0.732311936972219, 1.1236864118198293, 0.6749084758185947, 1.000519873313309, 1.0411687089393715]}, {\"mode\": \"lines\", \"name\": \"best selection\", \"type\": \"scatter\", \"x\": [0.005363911267647348, 0.939533173015347], \"y\": [0.6212578706865823, 1.457041176474967]}],                        {\"template\": {\"data\": {\"bar\": [{\"error_x\": {\"color\": \"#2a3f5f\"}, \"error_y\": {\"color\": \"#2a3f5f\"}, \"marker\": {\"line\": {\"color\": \"#E5ECF6\", \"width\": 0.5}}, \"type\": \"bar\"}], \"barpolar\": [{\"marker\": {\"line\": {\"color\": \"#E5ECF6\", \"width\": 0.5}}, \"type\": \"barpolar\"}], \"carpet\": [{\"aaxis\": {\"endlinecolor\": \"#2a3f5f\", \"gridcolor\": \"white\", \"linecolor\": \"white\", \"minorgridcolor\": \"white\", \"startlinecolor\": \"#2a3f5f\"}, \"baxis\": {\"endlinecolor\": \"#2a3f5f\", \"gridcolor\": \"white\", \"linecolor\": \"white\", \"minorgridcolor\": \"white\", \"startlinecolor\": \"#2a3f5f\"}, \"type\": \"carpet\"}], \"choropleth\": [{\"colorbar\": {\"outlinewidth\": 0, \"ticks\": \"\"}, \"type\": \"choropleth\"}], \"contour\": [{\"colorbar\": {\"outlinewidth\": 0, \"ticks\": \"\"}, \"colorscale\": [[0.0, \"#0d0887\"], [0.1111111111111111, \"#46039f\"], [0.2222222222222222, \"#7201a8\"], [0.3333333333333333, \"#9c179e\"], [0.4444444444444444, \"#bd3786\"], [0.5555555555555556, \"#d8576b\"], [0.6666666666666666, \"#ed7953\"], [0.7777777777777778, \"#fb9f3a\"], [0.8888888888888888, \"#fdca26\"], [1.0, \"#f0f921\"]], \"type\": \"contour\"}], \"contourcarpet\": [{\"colorbar\": {\"outlinewidth\": 0, \"ticks\": \"\"}, \"type\": \"contourcarpet\"}], \"heatmap\": [{\"colorbar\": {\"outlinewidth\": 0, \"ticks\": \"\"}, \"colorscale\": [[0.0, \"#0d0887\"], [0.1111111111111111, \"#46039f\"], [0.2222222222222222, \"#7201a8\"], [0.3333333333333333, \"#9c179e\"], [0.4444444444444444, \"#bd3786\"], [0.5555555555555556, \"#d8576b\"], [0.6666666666666666, \"#ed7953\"], [0.7777777777777778, \"#fb9f3a\"], [0.8888888888888888, \"#fdca26\"], [1.0, \"#f0f921\"]], \"type\": \"heatmap\"}], \"heatmapgl\": [{\"colorbar\": {\"outlinewidth\": 0, \"ticks\": \"\"}, \"colorscale\": [[0.0, \"#0d0887\"], [0.1111111111111111, \"#46039f\"], [0.2222222222222222, \"#7201a8\"], [0.3333333333333333, \"#9c179e\"], [0.4444444444444444, \"#bd3786\"], [0.5555555555555556, \"#d8576b\"], [0.6666666666666666, \"#ed7953\"], [0.7777777777777778, \"#fb9f3a\"], [0.8888888888888888, \"#fdca26\"], [1.0, \"#f0f921\"]], \"type\": \"heatmapgl\"}], \"histogram\": [{\"marker\": {\"colorbar\": {\"outlinewidth\": 0, \"ticks\": \"\"}}, \"type\": \"histogram\"}], \"histogram2d\": [{\"colorbar\": {\"outlinewidth\": 0, \"ticks\": \"\"}, \"colorscale\": [[0.0, \"#0d0887\"], [0.1111111111111111, \"#46039f\"], [0.2222222222222222, \"#7201a8\"], [0.3333333333333333, \"#9c179e\"], [0.4444444444444444, \"#bd3786\"], [0.5555555555555556, \"#d8576b\"], [0.6666666666666666, \"#ed7953\"], [0.7777777777777778, \"#fb9f3a\"], [0.8888888888888888, \"#fdca26\"], [1.0, \"#f0f921\"]], \"type\": \"histogram2d\"}], \"histogram2dcontour\": [{\"colorbar\": {\"outlinewidth\": 0, \"ticks\": \"\"}, \"colorscale\": [[0.0, \"#0d0887\"], [0.1111111111111111, \"#46039f\"], [0.2222222222222222, \"#7201a8\"], [0.3333333333333333, \"#9c179e\"], [0.4444444444444444, \"#bd3786\"], [0.5555555555555556, \"#d8576b\"], [0.6666666666666666, \"#ed7953\"], [0.7777777777777778, \"#fb9f3a\"], [0.8888888888888888, \"#fdca26\"], [1.0, \"#f0f921\"]], \"type\": \"histogram2dcontour\"}], \"mesh3d\": [{\"colorbar\": {\"outlinewidth\": 0, \"ticks\": \"\"}, \"type\": \"mesh3d\"}], \"parcoords\": [{\"line\": {\"colorbar\": {\"outlinewidth\": 0, \"ticks\": \"\"}}, \"type\": \"parcoords\"}], \"pie\": [{\"automargin\": true, \"type\": \"pie\"}], \"scatter\": [{\"marker\": {\"colorbar\": {\"outlinewidth\": 0, \"ticks\": \"\"}}, \"type\": \"scatter\"}], \"scatter3d\": [{\"line\": {\"colorbar\": {\"outlinewidth\": 0, \"ticks\": \"\"}}, \"marker\": {\"colorbar\": {\"outlinewidth\": 0, \"ticks\": \"\"}}, \"type\": \"scatter3d\"}], \"scattercarpet\": [{\"marker\": {\"colorbar\": {\"outlinewidth\": 0, \"ticks\": \"\"}}, \"type\": \"scattercarpet\"}], \"scattergeo\": [{\"marker\": {\"colorbar\": {\"outlinewidth\": 0, \"ticks\": \"\"}}, \"type\": \"scattergeo\"}], \"scattergl\": [{\"marker\": {\"colorbar\": {\"outlinewidth\": 0, \"ticks\": \"\"}}, \"type\": \"scattergl\"}], \"scattermapbox\": [{\"marker\": {\"colorbar\": {\"outlinewidth\": 0, \"ticks\": \"\"}}, \"type\": \"scattermapbox\"}], \"scatterpolar\": [{\"marker\": {\"colorbar\": {\"outlinewidth\": 0, \"ticks\": \"\"}}, \"type\": \"scatterpolar\"}], \"scatterpolargl\": [{\"marker\": {\"colorbar\": {\"outlinewidth\": 0, \"ticks\": \"\"}}, \"type\": \"scatterpolargl\"}], \"scatterternary\": [{\"marker\": {\"colorbar\": {\"outlinewidth\": 0, \"ticks\": \"\"}}, \"type\": \"scatterternary\"}], \"surface\": [{\"colorbar\": {\"outlinewidth\": 0, \"ticks\": \"\"}, \"colorscale\": [[0.0, \"#0d0887\"], [0.1111111111111111, \"#46039f\"], [0.2222222222222222, \"#7201a8\"], [0.3333333333333333, \"#9c179e\"], [0.4444444444444444, \"#bd3786\"], [0.5555555555555556, \"#d8576b\"], [0.6666666666666666, \"#ed7953\"], [0.7777777777777778, \"#fb9f3a\"], [0.8888888888888888, \"#fdca26\"], [1.0, \"#f0f921\"]], \"type\": \"surface\"}], \"table\": [{\"cells\": {\"fill\": {\"color\": \"#EBF0F8\"}, \"line\": {\"color\": \"white\"}}, \"header\": {\"fill\": {\"color\": \"#C8D4E3\"}, \"line\": {\"color\": \"white\"}}, \"type\": \"table\"}]}, \"layout\": {\"annotationdefaults\": {\"arrowcolor\": \"#2a3f5f\", \"arrowhead\": 0, \"arrowwidth\": 1}, \"autotypenumbers\": \"strict\", \"coloraxis\": {\"colorbar\": {\"outlinewidth\": 0, \"ticks\": \"\"}}, \"colorscale\": {\"diverging\": [[0, \"#8e0152\"], [0.1, \"#c51b7d\"], [0.2, \"#de77ae\"], [0.3, \"#f1b6da\"], [0.4, \"#fde0ef\"], [0.5, \"#f7f7f7\"], [0.6, \"#e6f5d0\"], [0.7, \"#b8e186\"], [0.8, \"#7fbc41\"], [0.9, \"#4d9221\"], [1, \"#276419\"]], \"sequential\": [[0.0, \"#0d0887\"], [0.1111111111111111, \"#46039f\"], [0.2222222222222222, \"#7201a8\"], [0.3333333333333333, \"#9c179e\"], [0.4444444444444444, \"#bd3786\"], [0.5555555555555556, \"#d8576b\"], [0.6666666666666666, \"#ed7953\"], [0.7777777777777778, \"#fb9f3a\"], [0.8888888888888888, \"#fdca26\"], [1.0, \"#f0f921\"]], \"sequentialminus\": [[0.0, \"#0d0887\"], [0.1111111111111111, \"#46039f\"], [0.2222222222222222, \"#7201a8\"], [0.3333333333333333, \"#9c179e\"], [0.4444444444444444, \"#bd3786\"], [0.5555555555555556, \"#d8576b\"], [0.6666666666666666, \"#ed7953\"], [0.7777777777777778, \"#fb9f3a\"], [0.8888888888888888, \"#fdca26\"], [1.0, \"#f0f921\"]]}, \"colorway\": [\"#636efa\", \"#EF553B\", \"#00cc96\", \"#ab63fa\", \"#FFA15A\", \"#19d3f3\", \"#FF6692\", \"#B6E880\", \"#FF97FF\", \"#FECB52\"], \"font\": {\"color\": \"#2a3f5f\"}, \"geo\": {\"bgcolor\": \"white\", \"lakecolor\": \"white\", \"landcolor\": \"#E5ECF6\", \"showlakes\": true, \"showland\": true, \"subunitcolor\": \"white\"}, \"hoverlabel\": {\"align\": \"left\"}, \"hovermode\": \"closest\", \"mapbox\": {\"style\": \"light\"}, \"paper_bgcolor\": \"white\", \"plot_bgcolor\": \"#E5ECF6\", \"polar\": {\"angularaxis\": {\"gridcolor\": \"white\", \"linecolor\": \"white\", \"ticks\": \"\"}, \"bgcolor\": \"#E5ECF6\", \"radialaxis\": {\"gridcolor\": \"white\", \"linecolor\": \"white\", \"ticks\": \"\"}}, \"scene\": {\"xaxis\": {\"backgroundcolor\": \"#E5ECF6\", \"gridcolor\": \"white\", \"gridwidth\": 2, \"linecolor\": \"white\", \"showbackground\": true, \"ticks\": \"\", \"zerolinecolor\": \"white\"}, \"yaxis\": {\"backgroundcolor\": \"#E5ECF6\", \"gridcolor\": \"white\", \"gridwidth\": 2, \"linecolor\": \"white\", \"showbackground\": true, \"ticks\": \"\", \"zerolinecolor\": \"white\"}, \"zaxis\": {\"backgroundcolor\": \"#E5ECF6\", \"gridcolor\": \"white\", \"gridwidth\": 2, \"linecolor\": \"white\", \"showbackground\": true, \"ticks\": \"\", \"zerolinecolor\": \"white\"}}, \"shapedefaults\": {\"line\": {\"color\": \"#2a3f5f\"}}, \"ternary\": {\"aaxis\": {\"gridcolor\": \"white\", \"linecolor\": \"white\", \"ticks\": \"\"}, \"baxis\": {\"gridcolor\": \"white\", \"linecolor\": \"white\", \"ticks\": \"\"}, \"bgcolor\": \"#E5ECF6\", \"caxis\": {\"gridcolor\": \"white\", \"linecolor\": \"white\", \"ticks\": \"\"}}, \"title\": {\"x\": 0.05}, \"xaxis\": {\"automargin\": true, \"gridcolor\": \"white\", \"linecolor\": \"white\", \"ticks\": \"\", \"title\": {\"standoff\": 15}, \"zerolinecolor\": \"white\", \"zerolinewidth\": 2}, \"yaxis\": {\"automargin\": true, \"gridcolor\": \"white\", \"linecolor\": \"white\", \"ticks\": \"\", \"title\": {\"standoff\": 15}, \"zerolinecolor\": \"white\", \"zerolinewidth\": 2}}}, \"title\": {\"text\": \"Ransac guesses\"}, \"updatemenus\": [{\"buttons\": [{\"args\": [null], \"label\": \"Play\", \"method\": \"animate\"}], \"type\": \"buttons\"}], \"xaxis\": {\"autorange\": false, \"range\": [0.005363911267647348, 0.939533173015347]}, \"yaxis\": {\"autorange\": false, \"range\": [0.6195520028432344, 1.385538166767804]}},                        {\"responsive\": true}                    ).then(function(){\n",
              "                            Plotly.addFrames('2cf252da-e433-402a-baab-a166065e6a6f', [{\"data\": [{\"y\": [0.9974598381971762, 0.7360190573619683, 0.9038390180751626, 1.1155287001650283, 0.7499967238413153, 1.1940842831025555, 0.9786579147033294, 0.8432132612057551, 1.3342608578723165, 0.9223012281120427, 0.9643679912467582, 1.247018237385665, 1.2509347224768348, 0.908429537844417, 0.9414583992307921, 0.6195520028432344, 0.769844104495886, 1.0554240408331257, 0.9135780164437001, 0.7166918224462131, 1.1710643905876224, 1.128017787985087, 0.7238636957353686, 0.8293395521149876, 0.8563943859389544, 0.6671829085744783, 0.7526706147736492, 1.2015493783670734, 0.947124968026765, 1.0432262309778442, 1.3333549190248406, 0.8573564277613529, 1.082020907417917, 0.9492055895924221, 1.2501132306152647, 0.9667110743253886, 1.2391574346786318, 0.7767783396750402, 0.7345419684238048, 1.05095267638766, 1.1168019084379175, 0.7279353566600751, 0.7891349419388256, 1.1401634962985685, 1.180317237620767, 1.105925243012499, 1.1052000275161484, 0.9750292345937693, 1.0458447218675662, 1.0798807823289633, 1.1220638353823893, 1.0170516075973457, 1.2600544597650043, 1.2580568148097175, 0.7578758093486981, 1.1049017197556013, 0.7265566150816446, 1.2328285910855583, 0.7993780061625709, 1.157269989151042, 1.0471350710391867, 0.7216764643129205, 1.1937065127922262, 0.7232270669685521, 1.185323768390174, 0.7992379510242961, 0.7312578310253847, 0.9692769348662577, 0.7763826107213527, 0.9865250260666673, 0.8691856279133068, 1.333623890676479, 1.266146782807101, 1.0814209373244328, 1.0925584499040064, 1.1891243539234682, 0.7463367637585524, 0.6442146670411113, 1.3222370447047733, 1.0110714803265077, 1.385538166767804, 0.8696902878311171, 0.7698556495095712, 0.8673015714553237, 1.0021727015625255, 0.9387943720404323, 0.7688004449753073, 0.8405160703316316, 1.171009561733919, 0.8607708089502447, 0.6498333250797675, 1.3028625638875282, 1.123725712400909, 1.2877671477058494, 1.1592378649364574, 0.732311936972219, 1.1236864118198293, 0.6749084758185947, 1.000519873313309, 1.0411687089393715], \"x\": [0.375295507674828, 0.12818528023610665, 0.3644146416118028, 0.5999701848575963, 0.15360831252305296, 0.8086296425938604, 0.3331092725552721, 0.23956743918728585, 0.939533173015347, 0.34505605604223943, 0.4855628296117648, 0.8450141455358333, 0.858728454313453, 0.3060533270475724, 0.3270919727302184, 0.025268565382494668, 0.1625426068627982, 0.49142386875182364, 0.3945466457504422, 0.11203206752719885, 0.6807694464945547, 0.6165965592322428, 0.09926707740706386, 0.26822384213553896, 0.1716208877882499, 0.09666987938291871, 0.19885859550935203, 0.6767138344741898, 0.3767684971457439, 0.5208237957603598, 0.9015974809110794, 0.3516829946777593, 0.6421326105289169, 0.42341223237827974, 0.8220577697461839, 0.383135298048207, 0.7378449635149252, 0.17007953828955358, 0.0908637932332752, 0.47186423409821643, 0.5162482992095848, 0.10597275579454146, 0.16774182256160408, 0.5772237210676069, 0.6164395778078421, 0.612535261417687, 0.6871398276444666, 0.4835435284068982, 0.5868096770656556, 0.6394472454338671, 0.530912103647873, 0.5361982518197689, 0.7865182742704815, 0.8115976213472164, 0.1245368689934453, 0.6607916405706451, 0.17344032008362043, 0.7906400782408307, 0.26256069021375417, 0.6875665452836385, 0.48525874753273124, 0.005363911267647348, 0.7297967245780006, 0.08566434096815845, 0.6078083035237084, 0.16298787194020747, 0.1925963105687356, 0.3629988783116437, 0.10552531447643743, 0.5173610331748337, 0.224616142234647, 0.9356620800995294, 0.7732073208745754, 0.5457223933547916, 0.48477850176199644, 0.6580712564107831, 0.17904895677934551, 0.021957901679636516, 0.8962254908792119, 0.4150639035893172, 0.8811543034754228, 0.282479651889337, 0.05971048519328648, 0.21858524063997464, 0.40978052290333244, 0.3334182601665181, 0.21649899564721709, 0.19655088045056324, 0.7523944097413401, 0.2816024436777431, 0.011502271067134084, 0.8376878443126201, 0.5669807914988965, 0.9019228601529793, 0.641507235980527, 0.04274262753946334, 0.6935010699787999, 0.06811095871200634, 0.46493871640472484, 0.4236403551849356], \"type\": \"scatter\", \"mode\": \"markers\", \"name\": \"all points\"}, {\"name\": \"selected points\", \"mode\": \"markers\", \"y\": [1.123725712400909, 0.7166918224462131], \"x\": [0.5669807914988965, 0.11203206752719885], \"line\": {\"color\": \"red\", \"width\": 2}, \"type\": \"scatter\"}, {\"y\": [0.6212578706865823, 1.457041176474967], \"x\": [0.005363911267647348, 0.939533173015347], \"type\": \"scatter\", \"mode\": \"lines\", \"name\": \"current line\"}]}, {\"data\": [{\"y\": [0.9974598381971762, 0.7360190573619683, 0.9038390180751626, 1.1155287001650283, 0.7499967238413153, 1.1940842831025555, 0.9786579147033294, 0.8432132612057551, 1.3342608578723165, 0.9223012281120427, 0.9643679912467582, 1.247018237385665, 1.2509347224768348, 0.908429537844417, 0.9414583992307921, 0.6195520028432344, 0.769844104495886, 1.0554240408331257, 0.9135780164437001, 0.7166918224462131, 1.1710643905876224, 1.128017787985087, 0.7238636957353686, 0.8293395521149876, 0.8563943859389544, 0.6671829085744783, 0.7526706147736492, 1.2015493783670734, 0.947124968026765, 1.0432262309778442, 1.3333549190248406, 0.8573564277613529, 1.082020907417917, 0.9492055895924221, 1.2501132306152647, 0.9667110743253886, 1.2391574346786318, 0.7767783396750402, 0.7345419684238048, 1.05095267638766, 1.1168019084379175, 0.7279353566600751, 0.7891349419388256, 1.1401634962985685, 1.180317237620767, 1.105925243012499, 1.1052000275161484, 0.9750292345937693, 1.0458447218675662, 1.0798807823289633, 1.1220638353823893, 1.0170516075973457, 1.2600544597650043, 1.2580568148097175, 0.7578758093486981, 1.1049017197556013, 0.7265566150816446, 1.2328285910855583, 0.7993780061625709, 1.157269989151042, 1.0471350710391867, 0.7216764643129205, 1.1937065127922262, 0.7232270669685521, 1.185323768390174, 0.7992379510242961, 0.7312578310253847, 0.9692769348662577, 0.7763826107213527, 0.9865250260666673, 0.8691856279133068, 1.333623890676479, 1.266146782807101, 1.0814209373244328, 1.0925584499040064, 1.1891243539234682, 0.7463367637585524, 0.6442146670411113, 1.3222370447047733, 1.0110714803265077, 1.385538166767804, 0.8696902878311171, 0.7698556495095712, 0.8673015714553237, 1.0021727015625255, 0.9387943720404323, 0.7688004449753073, 0.8405160703316316, 1.171009561733919, 0.8607708089502447, 0.6498333250797675, 1.3028625638875282, 1.123725712400909, 1.2877671477058494, 1.1592378649364574, 0.732311936972219, 1.1236864118198293, 0.6749084758185947, 1.000519873313309, 1.0411687089393715], \"x\": [0.375295507674828, 0.12818528023610665, 0.3644146416118028, 0.5999701848575963, 0.15360831252305296, 0.8086296425938604, 0.3331092725552721, 0.23956743918728585, 0.939533173015347, 0.34505605604223943, 0.4855628296117648, 0.8450141455358333, 0.858728454313453, 0.3060533270475724, 0.3270919727302184, 0.025268565382494668, 0.1625426068627982, 0.49142386875182364, 0.3945466457504422, 0.11203206752719885, 0.6807694464945547, 0.6165965592322428, 0.09926707740706386, 0.26822384213553896, 0.1716208877882499, 0.09666987938291871, 0.19885859550935203, 0.6767138344741898, 0.3767684971457439, 0.5208237957603598, 0.9015974809110794, 0.3516829946777593, 0.6421326105289169, 0.42341223237827974, 0.8220577697461839, 0.383135298048207, 0.7378449635149252, 0.17007953828955358, 0.0908637932332752, 0.47186423409821643, 0.5162482992095848, 0.10597275579454146, 0.16774182256160408, 0.5772237210676069, 0.6164395778078421, 0.612535261417687, 0.6871398276444666, 0.4835435284068982, 0.5868096770656556, 0.6394472454338671, 0.530912103647873, 0.5361982518197689, 0.7865182742704815, 0.8115976213472164, 0.1245368689934453, 0.6607916405706451, 0.17344032008362043, 0.7906400782408307, 0.26256069021375417, 0.6875665452836385, 0.48525874753273124, 0.005363911267647348, 0.7297967245780006, 0.08566434096815845, 0.6078083035237084, 0.16298787194020747, 0.1925963105687356, 0.3629988783116437, 0.10552531447643743, 0.5173610331748337, 0.224616142234647, 0.9356620800995294, 0.7732073208745754, 0.5457223933547916, 0.48477850176199644, 0.6580712564107831, 0.17904895677934551, 0.021957901679636516, 0.8962254908792119, 0.4150639035893172, 0.8811543034754228, 0.282479651889337, 0.05971048519328648, 0.21858524063997464, 0.40978052290333244, 0.3334182601665181, 0.21649899564721709, 0.19655088045056324, 0.7523944097413401, 0.2816024436777431, 0.011502271067134084, 0.8376878443126201, 0.5669807914988965, 0.9019228601529793, 0.641507235980527, 0.04274262753946334, 0.6935010699787999, 0.06811095871200634, 0.46493871640472484, 0.4236403551849356], \"type\": \"scatter\", \"mode\": \"markers\", \"name\": \"all points\"}, {\"name\": \"selected points\", \"mode\": \"markers\", \"y\": [1.2600544597650043, 0.7993780061625709], \"x\": [0.7865182742704815, 0.26256069021375417], \"line\": {\"color\": \"red\", \"width\": 2}, \"type\": \"scatter\"}, {\"y\": [0.5732442434150247, 1.3945889393622846], \"x\": [0.005363911267647348, 0.939533173015347], \"type\": \"scatter\", \"mode\": \"lines\", \"name\": \"current line\"}]}, {\"data\": [{\"y\": [0.9974598381971762, 0.7360190573619683, 0.9038390180751626, 1.1155287001650283, 0.7499967238413153, 1.1940842831025555, 0.9786579147033294, 0.8432132612057551, 1.3342608578723165, 0.9223012281120427, 0.9643679912467582, 1.247018237385665, 1.2509347224768348, 0.908429537844417, 0.9414583992307921, 0.6195520028432344, 0.769844104495886, 1.0554240408331257, 0.9135780164437001, 0.7166918224462131, 1.1710643905876224, 1.128017787985087, 0.7238636957353686, 0.8293395521149876, 0.8563943859389544, 0.6671829085744783, 0.7526706147736492, 1.2015493783670734, 0.947124968026765, 1.0432262309778442, 1.3333549190248406, 0.8573564277613529, 1.082020907417917, 0.9492055895924221, 1.2501132306152647, 0.9667110743253886, 1.2391574346786318, 0.7767783396750402, 0.7345419684238048, 1.05095267638766, 1.1168019084379175, 0.7279353566600751, 0.7891349419388256, 1.1401634962985685, 1.180317237620767, 1.105925243012499, 1.1052000275161484, 0.9750292345937693, 1.0458447218675662, 1.0798807823289633, 1.1220638353823893, 1.0170516075973457, 1.2600544597650043, 1.2580568148097175, 0.7578758093486981, 1.1049017197556013, 0.7265566150816446, 1.2328285910855583, 0.7993780061625709, 1.157269989151042, 1.0471350710391867, 0.7216764643129205, 1.1937065127922262, 0.7232270669685521, 1.185323768390174, 0.7992379510242961, 0.7312578310253847, 0.9692769348662577, 0.7763826107213527, 0.9865250260666673, 0.8691856279133068, 1.333623890676479, 1.266146782807101, 1.0814209373244328, 1.0925584499040064, 1.1891243539234682, 0.7463367637585524, 0.6442146670411113, 1.3222370447047733, 1.0110714803265077, 1.385538166767804, 0.8696902878311171, 0.7698556495095712, 0.8673015714553237, 1.0021727015625255, 0.9387943720404323, 0.7688004449753073, 0.8405160703316316, 1.171009561733919, 0.8607708089502447, 0.6498333250797675, 1.3028625638875282, 1.123725712400909, 1.2877671477058494, 1.1592378649364574, 0.732311936972219, 1.1236864118198293, 0.6749084758185947, 1.000519873313309, 1.0411687089393715], \"x\": [0.375295507674828, 0.12818528023610665, 0.3644146416118028, 0.5999701848575963, 0.15360831252305296, 0.8086296425938604, 0.3331092725552721, 0.23956743918728585, 0.939533173015347, 0.34505605604223943, 0.4855628296117648, 0.8450141455358333, 0.858728454313453, 0.3060533270475724, 0.3270919727302184, 0.025268565382494668, 0.1625426068627982, 0.49142386875182364, 0.3945466457504422, 0.11203206752719885, 0.6807694464945547, 0.6165965592322428, 0.09926707740706386, 0.26822384213553896, 0.1716208877882499, 0.09666987938291871, 0.19885859550935203, 0.6767138344741898, 0.3767684971457439, 0.5208237957603598, 0.9015974809110794, 0.3516829946777593, 0.6421326105289169, 0.42341223237827974, 0.8220577697461839, 0.383135298048207, 0.7378449635149252, 0.17007953828955358, 0.0908637932332752, 0.47186423409821643, 0.5162482992095848, 0.10597275579454146, 0.16774182256160408, 0.5772237210676069, 0.6164395778078421, 0.612535261417687, 0.6871398276444666, 0.4835435284068982, 0.5868096770656556, 0.6394472454338671, 0.530912103647873, 0.5361982518197689, 0.7865182742704815, 0.8115976213472164, 0.1245368689934453, 0.6607916405706451, 0.17344032008362043, 0.7906400782408307, 0.26256069021375417, 0.6875665452836385, 0.48525874753273124, 0.005363911267647348, 0.7297967245780006, 0.08566434096815845, 0.6078083035237084, 0.16298787194020747, 0.1925963105687356, 0.3629988783116437, 0.10552531447643743, 0.5173610331748337, 0.224616142234647, 0.9356620800995294, 0.7732073208745754, 0.5457223933547916, 0.48477850176199644, 0.6580712564107831, 0.17904895677934551, 0.021957901679636516, 0.8962254908792119, 0.4150639035893172, 0.8811543034754228, 0.282479651889337, 0.05971048519328648, 0.21858524063997464, 0.40978052290333244, 0.3334182601665181, 0.21649899564721709, 0.19655088045056324, 0.7523944097413401, 0.2816024436777431, 0.011502271067134084, 0.8376878443126201, 0.5669807914988965, 0.9019228601529793, 0.641507235980527, 0.04274262753946334, 0.6935010699787999, 0.06811095871200634, 0.46493871640472484, 0.4236403551849356], \"type\": \"scatter\", \"mode\": \"markers\", \"name\": \"all points\"}, {\"name\": \"selected points\", \"mode\": \"markers\", \"y\": [1.185323768390174, 1.0458447218675662], \"x\": [0.6078083035237084, 0.5868096770656556], \"line\": {\"color\": \"red\", \"width\": 2}, \"type\": \"scatter\"}, {\"y\": [-2.8162888886387876, 3.3887378153497294], \"x\": [0.005363911267647348, 0.939533173015347], \"type\": \"scatter\", \"mode\": \"lines\", \"name\": \"current line\"}]}, {\"data\": [{\"y\": [0.9974598381971762, 0.7360190573619683, 0.9038390180751626, 1.1155287001650283, 0.7499967238413153, 1.1940842831025555, 0.9786579147033294, 0.8432132612057551, 1.3342608578723165, 0.9223012281120427, 0.9643679912467582, 1.247018237385665, 1.2509347224768348, 0.908429537844417, 0.9414583992307921, 0.6195520028432344, 0.769844104495886, 1.0554240408331257, 0.9135780164437001, 0.7166918224462131, 1.1710643905876224, 1.128017787985087, 0.7238636957353686, 0.8293395521149876, 0.8563943859389544, 0.6671829085744783, 0.7526706147736492, 1.2015493783670734, 0.947124968026765, 1.0432262309778442, 1.3333549190248406, 0.8573564277613529, 1.082020907417917, 0.9492055895924221, 1.2501132306152647, 0.9667110743253886, 1.2391574346786318, 0.7767783396750402, 0.7345419684238048, 1.05095267638766, 1.1168019084379175, 0.7279353566600751, 0.7891349419388256, 1.1401634962985685, 1.180317237620767, 1.105925243012499, 1.1052000275161484, 0.9750292345937693, 1.0458447218675662, 1.0798807823289633, 1.1220638353823893, 1.0170516075973457, 1.2600544597650043, 1.2580568148097175, 0.7578758093486981, 1.1049017197556013, 0.7265566150816446, 1.2328285910855583, 0.7993780061625709, 1.157269989151042, 1.0471350710391867, 0.7216764643129205, 1.1937065127922262, 0.7232270669685521, 1.185323768390174, 0.7992379510242961, 0.7312578310253847, 0.9692769348662577, 0.7763826107213527, 0.9865250260666673, 0.8691856279133068, 1.333623890676479, 1.266146782807101, 1.0814209373244328, 1.0925584499040064, 1.1891243539234682, 0.7463367637585524, 0.6442146670411113, 1.3222370447047733, 1.0110714803265077, 1.385538166767804, 0.8696902878311171, 0.7698556495095712, 0.8673015714553237, 1.0021727015625255, 0.9387943720404323, 0.7688004449753073, 0.8405160703316316, 1.171009561733919, 0.8607708089502447, 0.6498333250797675, 1.3028625638875282, 1.123725712400909, 1.2877671477058494, 1.1592378649364574, 0.732311936972219, 1.1236864118198293, 0.6749084758185947, 1.000519873313309, 1.0411687089393715], \"x\": [0.375295507674828, 0.12818528023610665, 0.3644146416118028, 0.5999701848575963, 0.15360831252305296, 0.8086296425938604, 0.3331092725552721, 0.23956743918728585, 0.939533173015347, 0.34505605604223943, 0.4855628296117648, 0.8450141455358333, 0.858728454313453, 0.3060533270475724, 0.3270919727302184, 0.025268565382494668, 0.1625426068627982, 0.49142386875182364, 0.3945466457504422, 0.11203206752719885, 0.6807694464945547, 0.6165965592322428, 0.09926707740706386, 0.26822384213553896, 0.1716208877882499, 0.09666987938291871, 0.19885859550935203, 0.6767138344741898, 0.3767684971457439, 0.5208237957603598, 0.9015974809110794, 0.3516829946777593, 0.6421326105289169, 0.42341223237827974, 0.8220577697461839, 0.383135298048207, 0.7378449635149252, 0.17007953828955358, 0.0908637932332752, 0.47186423409821643, 0.5162482992095848, 0.10597275579454146, 0.16774182256160408, 0.5772237210676069, 0.6164395778078421, 0.612535261417687, 0.6871398276444666, 0.4835435284068982, 0.5868096770656556, 0.6394472454338671, 0.530912103647873, 0.5361982518197689, 0.7865182742704815, 0.8115976213472164, 0.1245368689934453, 0.6607916405706451, 0.17344032008362043, 0.7906400782408307, 0.26256069021375417, 0.6875665452836385, 0.48525874753273124, 0.005363911267647348, 0.7297967245780006, 0.08566434096815845, 0.6078083035237084, 0.16298787194020747, 0.1925963105687356, 0.3629988783116437, 0.10552531447643743, 0.5173610331748337, 0.224616142234647, 0.9356620800995294, 0.7732073208745754, 0.5457223933547916, 0.48477850176199644, 0.6580712564107831, 0.17904895677934551, 0.021957901679636516, 0.8962254908792119, 0.4150639035893172, 0.8811543034754228, 0.282479651889337, 0.05971048519328648, 0.21858524063997464, 0.40978052290333244, 0.3334182601665181, 0.21649899564721709, 0.19655088045056324, 0.7523944097413401, 0.2816024436777431, 0.011502271067134084, 0.8376878443126201, 0.5669807914988965, 0.9019228601529793, 0.641507235980527, 0.04274262753946334, 0.6935010699787999, 0.06811095871200634, 0.46493871640472484, 0.4236403551849356], \"type\": \"scatter\", \"mode\": \"markers\", \"name\": \"all points\"}, {\"name\": \"selected points\", \"mode\": \"markers\", \"y\": [1.0110714803265077, 0.8607708089502447], \"x\": [0.4150639035893172, 0.2816024436777431], \"line\": {\"color\": \"red\", \"width\": 2}, \"type\": \"scatter\"}, {\"y\": [0.5496784763117466, 1.6017145271145363], \"x\": [0.005363911267647348, 0.939533173015347], \"type\": \"scatter\", \"mode\": \"lines\", \"name\": \"current line\"}]}, {\"data\": [{\"y\": [0.9974598381971762, 0.7360190573619683, 0.9038390180751626, 1.1155287001650283, 0.7499967238413153, 1.1940842831025555, 0.9786579147033294, 0.8432132612057551, 1.3342608578723165, 0.9223012281120427, 0.9643679912467582, 1.247018237385665, 1.2509347224768348, 0.908429537844417, 0.9414583992307921, 0.6195520028432344, 0.769844104495886, 1.0554240408331257, 0.9135780164437001, 0.7166918224462131, 1.1710643905876224, 1.128017787985087, 0.7238636957353686, 0.8293395521149876, 0.8563943859389544, 0.6671829085744783, 0.7526706147736492, 1.2015493783670734, 0.947124968026765, 1.0432262309778442, 1.3333549190248406, 0.8573564277613529, 1.082020907417917, 0.9492055895924221, 1.2501132306152647, 0.9667110743253886, 1.2391574346786318, 0.7767783396750402, 0.7345419684238048, 1.05095267638766, 1.1168019084379175, 0.7279353566600751, 0.7891349419388256, 1.1401634962985685, 1.180317237620767, 1.105925243012499, 1.1052000275161484, 0.9750292345937693, 1.0458447218675662, 1.0798807823289633, 1.1220638353823893, 1.0170516075973457, 1.2600544597650043, 1.2580568148097175, 0.7578758093486981, 1.1049017197556013, 0.7265566150816446, 1.2328285910855583, 0.7993780061625709, 1.157269989151042, 1.0471350710391867, 0.7216764643129205, 1.1937065127922262, 0.7232270669685521, 1.185323768390174, 0.7992379510242961, 0.7312578310253847, 0.9692769348662577, 0.7763826107213527, 0.9865250260666673, 0.8691856279133068, 1.333623890676479, 1.266146782807101, 1.0814209373244328, 1.0925584499040064, 1.1891243539234682, 0.7463367637585524, 0.6442146670411113, 1.3222370447047733, 1.0110714803265077, 1.385538166767804, 0.8696902878311171, 0.7698556495095712, 0.8673015714553237, 1.0021727015625255, 0.9387943720404323, 0.7688004449753073, 0.8405160703316316, 1.171009561733919, 0.8607708089502447, 0.6498333250797675, 1.3028625638875282, 1.123725712400909, 1.2877671477058494, 1.1592378649364574, 0.732311936972219, 1.1236864118198293, 0.6749084758185947, 1.000519873313309, 1.0411687089393715], \"x\": [0.375295507674828, 0.12818528023610665, 0.3644146416118028, 0.5999701848575963, 0.15360831252305296, 0.8086296425938604, 0.3331092725552721, 0.23956743918728585, 0.939533173015347, 0.34505605604223943, 0.4855628296117648, 0.8450141455358333, 0.858728454313453, 0.3060533270475724, 0.3270919727302184, 0.025268565382494668, 0.1625426068627982, 0.49142386875182364, 0.3945466457504422, 0.11203206752719885, 0.6807694464945547, 0.6165965592322428, 0.09926707740706386, 0.26822384213553896, 0.1716208877882499, 0.09666987938291871, 0.19885859550935203, 0.6767138344741898, 0.3767684971457439, 0.5208237957603598, 0.9015974809110794, 0.3516829946777593, 0.6421326105289169, 0.42341223237827974, 0.8220577697461839, 0.383135298048207, 0.7378449635149252, 0.17007953828955358, 0.0908637932332752, 0.47186423409821643, 0.5162482992095848, 0.10597275579454146, 0.16774182256160408, 0.5772237210676069, 0.6164395778078421, 0.612535261417687, 0.6871398276444666, 0.4835435284068982, 0.5868096770656556, 0.6394472454338671, 0.530912103647873, 0.5361982518197689, 0.7865182742704815, 0.8115976213472164, 0.1245368689934453, 0.6607916405706451, 0.17344032008362043, 0.7906400782408307, 0.26256069021375417, 0.6875665452836385, 0.48525874753273124, 0.005363911267647348, 0.7297967245780006, 0.08566434096815845, 0.6078083035237084, 0.16298787194020747, 0.1925963105687356, 0.3629988783116437, 0.10552531447643743, 0.5173610331748337, 0.224616142234647, 0.9356620800995294, 0.7732073208745754, 0.5457223933547916, 0.48477850176199644, 0.6580712564107831, 0.17904895677934551, 0.021957901679636516, 0.8962254908792119, 0.4150639035893172, 0.8811543034754228, 0.282479651889337, 0.05971048519328648, 0.21858524063997464, 0.40978052290333244, 0.3334182601665181, 0.21649899564721709, 0.19655088045056324, 0.7523944097413401, 0.2816024436777431, 0.011502271067134084, 0.8376878443126201, 0.5669807914988965, 0.9019228601529793, 0.641507235980527, 0.04274262753946334, 0.6935010699787999, 0.06811095871200634, 0.46493871640472484, 0.4236403551849356], \"type\": \"scatter\", \"mode\": \"markers\", \"name\": \"all points\"}, {\"name\": \"selected points\", \"mode\": \"markers\", \"y\": [0.9786579147033294, 0.769844104495886], \"x\": [0.3331092725552721, 0.1625426068627982], \"line\": {\"color\": \"red\", \"width\": 2}, \"type\": \"scatter\"}, {\"y\": [0.5774203259257245, 1.721063734397529], \"x\": [0.005363911267647348, 0.939533173015347], \"type\": \"scatter\", \"mode\": \"lines\", \"name\": \"current line\"}]}]);\n",
              "                        }).then(function(){\n",
              "                            \n",
              "var gd = document.getElementById('2cf252da-e433-402a-baab-a166065e6a6f');\n",
              "var x = new MutationObserver(function (mutations, observer) {{\n",
              "        var display = window.getComputedStyle(gd).display;\n",
              "        if (!display || display === 'none') {{\n",
              "            console.log([gd, 'removed!']);\n",
              "            Plotly.purge(gd);\n",
              "            observer.disconnect();\n",
              "        }}\n",
              "}});\n",
              "\n",
              "// Listen for the removal of the full notebook cells\n",
              "var notebookContainer = gd.closest('#notebook-container');\n",
              "if (notebookContainer) {{\n",
              "    x.observe(notebookContainer, {childList: true});\n",
              "}}\n",
              "\n",
              "// Listen for the clearing of the current output cell\n",
              "var outputEl = gd.closest('.output');\n",
              "if (outputEl) {{\n",
              "    x.observe(outputEl, {childList: true});\n",
              "}}\n",
              "\n",
              "                        })                };                            </script>        </div>\n",
              "</body>\n",
              "</html>"
            ]
          },
          "metadata": {
            "tags": []
          }
        }
      ]
    },
    {
      "cell_type": "code",
      "metadata": {
        "id": "odHucSSmXKYH"
      },
      "source": [
        ""
      ],
      "execution_count": null,
      "outputs": []
    }
  ]
}